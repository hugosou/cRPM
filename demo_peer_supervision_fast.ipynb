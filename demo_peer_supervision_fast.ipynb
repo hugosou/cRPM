{
 "cells": [
  {
   "cell_type": "markdown",
   "metadata": {},
   "source": [
    "# Recognition Parametrized Model (RPM): Peer Supervision\n",
    "\n",
    "\n",
    "Observations $\\mathcal{X} = \\{ x_j \\}$ are groups of MNIST images representing $J$ different renderings of the same digit. The RPM to extract this information without explicit label information - a setting that might be termed \"peer-supervision\". The model writes:\n",
    "\n",
    "$$ \\mathsf{P_{\\theta}}(\\mathcal{X}, \\mathcal{Z}) = \\mathsf{p_{\\theta_z}}(\\mathcal{Z}) \\prod_{j} \\left( \\mathsf{p_{0,j}}(\\mathsf{x_{j}}) \\frac{\\mathsf{f_{\\theta j}}(\\mathsf{\\mathcal{Z}} | \\mathsf{x_{j}})}{\\mathsf{F_{\\theta j}}(\\mathcal{Z})} \\right) $$\n",
    "\n",
    "## Load and Rearanged MNIST"
   ]
  },
  {
   "cell_type": "code",
   "execution_count": 46,
   "metadata": {},
   "outputs": [],
   "source": [
    "import pickle\n",
    "import numpy as np\n",
    "from datetime import datetime\n",
    "import matplotlib.pyplot as plt\n",
    "from utils_process import plot_loss\n",
    "\n",
    "import torch\n",
    "from torchvision import datasets\n",
    "from torchvision.transforms import ToTensor\n",
    "\n",
    "from utils_demo import rearrange_mnist\n",
    "\n",
    "from fast_rpm import RPM\n",
    "import torch.nn.functional as F\n",
    "\n",
    "\n",
    "data_folder = './../MNIST'\n",
    "\n",
    "# Load MNIST\n",
    "train_data = datasets.MNIST(\n",
    "    root=data_folder,\n",
    "    train=True,\n",
    "    transform=ToTensor(),\n",
    "    download=True,\n",
    ")\n",
    "\n",
    "test_data = datasets.MNIST(\n",
    "    root=data_folder,\n",
    "    train=False,\n",
    "    transform=ToTensor()\n",
    ")\n",
    "\n",
    "# Random seeds\n",
    "torch.manual_seed(2)\n",
    "\n",
    "# Number of Conditionally independent Factors\n",
    "num_factors = 2\n",
    "\n",
    "# Sub-Sample original dataset\n",
    "train_length = 60000\n",
    "\n",
    "# Keep Only some digits (for efficiency)\n",
    "sub_ids = torch.tensor([0, 1, 2, 3, 4, 5, 6, 7, 8, 9])\n",
    "#sub_ids = torch.tensor([0, 1, 2, 3, 4])\n",
    "num_digits = len(sub_ids)\n",
    "\n",
    "# Rearrange MNIST by grouping num_factors Conditionally independent Observations together\n",
    "observations, train_images, train_labels = rearrange_mnist(\n",
    "    train_data.train_data, \n",
    "    train_data.train_labels, \n",
    "    num_factors, \n",
    "    train_length=train_length,\n",
    "    sub_ids=sub_ids\n",
    ")\n",
    "\n",
    "\n",
    "# Rearrange MNIST by grouping num_factors Conditionally independent Observations together\n",
    "observations_test, test_images, test_labels = rearrange_mnist(\n",
    "    test_data.test_data, \n",
    "    test_data.test_labels, \n",
    "    num_factors, \n",
    "    train_length=test_data.test_labels.shape[0],\n",
    "    sub_ids=sub_ids\n",
    ")\n",
    "test_labels = test_labels.reshape(observations_test[0].shape[0], num_factors)\n",
    "            "
   ]
  },
  {
   "cell_type": "markdown",
   "metadata": {},
   "source": [
    "## Typical Observations"
   ]
  },
  {
   "cell_type": "code",
   "execution_count": 33,
   "metadata": {},
   "outputs": [
    {
     "data": {
      "image/png": "[encoded data removed]",
      "text/plain": [
       "<Figure size 864x288 with 12 Axes>"
      ]
     },
     "metadata": {},
     "output_type": "display_data"
    }
   ],
   "source": [
    "num_plot = np.arange(6)\n",
    "plt.figure(figsize=(len(num_plot)*2, num_factors*2))\n",
    "for obsi in range(len(num_plot)):\n",
    "    for facti in range(num_factors):\n",
    "        plt.subplot(num_factors, len(num_plot), (1+obsi) + facti * len(num_plot))\n",
    "        plt.imshow(observations[facti][num_plot[obsi], :, :], cmap='gray')\n",
    "        plt.xticks([])\n",
    "        plt.yticks([])\n",
    "        if facti == 0:\n",
    "            plt.title('Obs. n=' + str(obsi))\n",
    "        if obsi == 0:\n",
    "            plt.ylabel('Factor. j=' + str(facti))"
   ]
  },
  {
   "cell_type": "markdown",
   "metadata": {},
   "source": [
    "## Fit"
   ]
  },
  {
   "cell_type": "code",
   "execution_count": 34,
   "metadata": {},
   "outputs": [],
   "source": [
    "# GPUs ?\n",
    "device = torch.device('cuda' if torch.cuda.is_available() else 'cpu')\n",
    "\n",
    "# Data type: float64 / float32\n",
    "data_type = torch.float32\n",
    "torch.set_default_dtype(data_type)\n",
    "\n",
    "# Training Move to GPU\n",
    "obs = [(obsi / obsi.max()).to(device) for obsi in observations]\n",
    "\n",
    "# Testing Move to GPU\n",
    "obs_test = [(obsi / obsi.max()).to(device) for obsi in observations_test]"
   ]
  },
  {
   "cell_type": "code",
   "execution_count": 60,
   "metadata": {},
   "outputs": [
    {
     "name": "stdout",
     "output_type": "stream",
     "text": [
      "RPM on GPU Observations on cuda:0\n"
     ]
    }
   ],
   "source": [
    "# Fit params\n",
    "\n",
    "factors_params = {\n",
    "    'channels': [[1, 10, 20], [1, 10, 20]],\n",
    "    'kernel_conv': [[5, 5], [5, 5]],\n",
    "    'kernel_pool': [[2, 2], [2, 2]],\n",
    "    'dim_hidden': [[50], [50]],\n",
    "    'nonlinearity': [F.relu, F.relu],\n",
    "    'covariance': ['fixed_diag', 'fixed_diag'],\n",
    "    'optimizer': lambda params: torch.optim.Adam(params=params, lr=1e-3),\n",
    "}\n",
    "\n",
    "auxiliary_params = {\n",
    "    'channels': [[1, 10, 20], [1, 10, 20]],\n",
    "    'kernel_conv': [[5, 5], [5, 5]],\n",
    "    'kernel_pool': [[2, 2], [2, 2]],\n",
    "    'dim_hidden': [[50], [50]],\n",
    "    'nonlinearity': [F.relu, F.relu],\n",
    "    'covariance': ['fixed_diag', 'fixed_diag'],\n",
    "    'optimizer': lambda params: torch.optim.Adam(params=params, lr=0*1e-3),\n",
    "}\n",
    "\n",
    "\n",
    "fit_params = {\n",
    "    'num_epoch': 200,\n",
    "    'batch_size': 2000,\n",
    "    'dim_latent': 3,\n",
    "    'factors_params': factors_params,\n",
    "    'auxiliary_params': auxiliary_params,\n",
    "    'ergodic': False,\n",
    "    'pct': 0.01\n",
    "}\n",
    "\n",
    "rpm = RPM(\n",
    "    observations=obs,\n",
    "    fit_params=fit_params,\n",
    ")\n"
   ]
  },
  {
   "cell_type": "code",
   "execution_count": 61,
   "metadata": {},
   "outputs": [
    {
     "name": "stdout",
     "output_type": "stream",
     "text": [
      "Epoch 2/200 Loss: 7.096512e-01\n",
      "Epoch 4/200 Loss: 6.839638e-01\n",
      "Epoch 6/200 Loss: 6.565852e-01\n",
      "Epoch 8/200 Loss: 6.428346e-01\n",
      "Epoch 10/200 Loss: 6.351505e-01\n",
      "Epoch 12/200 Loss: 6.284592e-01\n",
      "Epoch 14/200 Loss: 6.220541e-01\n",
      "Epoch 16/200 Loss: 6.162513e-01\n",
      "Epoch 18/200 Loss: 6.104936e-01\n",
      "Epoch 20/200 Loss: 6.046783e-01\n",
      "Epoch 22/200 Loss: 5.990729e-01\n",
      "Epoch 24/200 Loss: 5.936223e-01\n",
      "Epoch 26/200 Loss: 5.882642e-01\n",
      "Epoch 28/200 Loss: 5.829986e-01\n",
      "Epoch 30/200 Loss: 5.778670e-01\n",
      "Epoch 32/200 Loss: 5.729210e-01\n",
      "Epoch 34/200 Loss: 5.680662e-01\n",
      "Epoch 36/200 Loss: 5.635006e-01\n",
      "Epoch 38/200 Loss: 5.593065e-01\n",
      "Epoch 40/200 Loss: 5.552850e-01\n",
      "Epoch 42/200 Loss: 5.518241e-01\n",
      "Epoch 44/200 Loss: 5.485645e-01\n",
      "Epoch 46/200 Loss: 5.458219e-01\n",
      "Epoch 48/200 Loss: 5.434816e-01\n",
      "Epoch 50/200 Loss: 5.414056e-01\n",
      "Epoch 52/200 Loss: 5.397790e-01\n",
      "Epoch 54/200 Loss: 5.384550e-01\n",
      "Epoch 56/200 Loss: 5.374643e-01\n",
      "Epoch 58/200 Loss: 5.366838e-01\n",
      "Epoch 60/200 Loss: 5.359828e-01\n",
      "Epoch 62/200 Loss: 5.355324e-01\n",
      "Epoch 64/200 Loss: 5.351706e-01\n",
      "Epoch 66/200 Loss: 5.349462e-01\n",
      "Epoch 68/200 Loss: 5.347036e-01\n",
      "Epoch 70/200 Loss: 5.345994e-01\n",
      "Epoch 72/200 Loss: 5.344726e-01\n",
      "Epoch 74/200 Loss: 5.344182e-01\n",
      "Epoch 76/200 Loss: 5.343515e-01\n",
      "Epoch 78/200 Loss: 5.343231e-01\n",
      "Epoch 80/200 Loss: 5.342776e-01\n",
      "Epoch 82/200 Loss: 5.342385e-01\n",
      "Epoch 84/200 Loss: 5.342663e-01\n",
      "Epoch 86/200 Loss: 5.342453e-01\n",
      "Epoch 88/200 Loss: 5.342055e-01\n",
      "Epoch 90/200 Loss: 5.342742e-01\n",
      "Epoch 92/200 Loss: 5.341690e-01\n",
      "Epoch 94/200 Loss: 5.342340e-01\n",
      "Epoch 96/200 Loss: 5.342630e-01\n",
      "Epoch 98/200 Loss: 5.341487e-01\n",
      "Epoch 100/200 Loss: 5.342189e-01\n",
      "Epoch 102/200 Loss: 5.341595e-01\n",
      "Epoch 104/200 Loss: 5.341247e-01\n",
      "Epoch 106/200 Loss: 5.341465e-01\n",
      "Epoch 108/200 Loss: 5.341388e-01\n",
      "Epoch 110/200 Loss: 5.341434e-01\n",
      "Epoch 112/200 Loss: 5.340984e-01\n",
      "Epoch 114/200 Loss: 5.341669e-01\n",
      "Epoch 116/200 Loss: 5.341004e-01\n",
      "Epoch 118/200 Loss: 5.340891e-01\n",
      "Epoch 120/200 Loss: 5.341370e-01\n",
      "Epoch 122/200 Loss: 5.340989e-01\n",
      "Epoch 124/200 Loss: 5.340961e-01\n",
      "Epoch 126/200 Loss: 5.341161e-01\n",
      "Epoch 128/200 Loss: 5.340884e-01\n",
      "Epoch 130/200 Loss: 5.340426e-01\n",
      "Epoch 132/200 Loss: 5.341145e-01\n",
      "Epoch 134/200 Loss: 5.341583e-01\n",
      "Epoch 136/200 Loss: 5.341113e-01\n",
      "Epoch 138/200 Loss: 5.340471e-01\n",
      "Epoch 140/200 Loss: 5.340712e-01\n",
      "Epoch 142/200 Loss: 5.340824e-01\n",
      "Epoch 144/200 Loss: 5.340161e-01\n",
      "Epoch 146/200 Loss: 5.340117e-01\n",
      "Epoch 148/200 Loss: 5.340550e-01\n",
      "Epoch 150/200 Loss: 5.340754e-01\n",
      "Epoch 152/200 Loss: 5.340174e-01\n",
      "Epoch 154/200 Loss: 5.340014e-01\n",
      "Epoch 156/200 Loss: 5.340238e-01\n",
      "Epoch 158/200 Loss: 5.340209e-01\n",
      "Epoch 160/200 Loss: 5.340114e-01\n",
      "Epoch 162/200 Loss: 5.340653e-01\n",
      "Epoch 164/200 Loss: 5.340497e-01\n",
      "Epoch 166/200 Loss: 5.339798e-01\n",
      "Epoch 168/200 Loss: 5.339579e-01\n",
      "Epoch 170/200 Loss: 5.339681e-01\n",
      "Epoch 172/200 Loss: 5.339392e-01\n",
      "Epoch 174/200 Loss: 5.339470e-01\n",
      "Epoch 176/200 Loss: 5.339690e-01\n",
      "Epoch 178/200 Loss: 5.339651e-01\n",
      "Epoch 180/200 Loss: 5.339919e-01\n",
      "Epoch 182/200 Loss: 5.339944e-01\n",
      "Epoch 184/200 Loss: 5.339715e-01\n",
      "Epoch 186/200 Loss: 5.339664e-01\n",
      "Epoch 188/200 Loss: 5.339263e-01\n",
      "Epoch 190/200 Loss: 5.340767e-01\n",
      "Epoch 192/200 Loss: 5.339391e-01\n",
      "Epoch 194/200 Loss: 5.339070e-01\n",
      "Epoch 196/200 Loss: 5.338931e-01\n",
      "Epoch 198/200 Loss: 5.339206e-01\n",
      "Epoch 200/200 Loss: 5.339108e-01\n"
     ]
    }
   ],
   "source": [
    "rpm.fit(obs)"
   ]
  },
  {
   "cell_type": "code",
   "execution_count": 62,
   "metadata": {},
   "outputs": [
    {
     "data": {
      "image/png": "[encoded data removed]",
      "text/plain": [
       "<Figure size 432x288 with 1 Axes>"
      ]
     },
     "metadata": {
      "needs_background": "light"
     },
     "output_type": "display_data"
    }
   ],
   "source": [
    "plot_loss(rpm, offset=0)"
   ]
  },
  {
   "cell_type": "markdown",
   "metadata": {},
   "source": [
    "## Latent Distribution Embeddings of test images"
   ]
  },
  {
   "cell_type": "code",
   "execution_count": null,
   "metadata": {},
   "outputs": [],
   "source": [
    "# Forward test data\n",
    "import utils_process\n",
    "\n",
    "dim_latent = rpm.dim_latent\n",
    "heigh = int(dim_latent * (dim_latent - 1) / 2)\n",
    "width = rpm.num_factors+1\n",
    "plt.figure(figsize=(width * 7, heigh * 7))  \n",
    "\n",
    "for J in range(-1, rpm.num_factors):\n",
    "\n",
    "    #J = 0\n",
    "    qdist, fdist = rpm.get_posteriors(obs_test)\n",
    "\n",
    "    if J == -1:\n",
    "        mean, vari = qdist.mean_covariance()\n",
    "        title_str = 'Approximate Posterior Distribution q(. | X)'\n",
    "    else:\n",
    "        mean, vari = fdist.mean_covariance()\n",
    "        mean = mean[J]\n",
    "        vari = vari[J]\n",
    "        title_str = 'Recognition Distribution f(. | x' + str(J) + ')'\n",
    "\n",
    "    mean = mean.detach().clone().cpu().numpy()\n",
    "    vari = vari.detach().clone().cpu().numpy()\n",
    "\n",
    "\n",
    "    # Plot testing Data\n",
    "    subset = 250\n",
    "    xx = mean[:subset]\n",
    "    zz = vari[:subset]\n",
    "    yy = test_labels[:subset, J]\n",
    "    cmap = plt.get_cmap(\"tab10\")\n",
    "\n",
    "\n",
    "    \n",
    "    compt = 0\n",
    "    for uu in range(dim_latent -1):\n",
    "        for vv in range(uu+1, dim_latent):\n",
    "            offset = width * compt \n",
    "            compt += 1\n",
    "            \n",
    "            ax = plt.subplot(dim_latent, width, J + 2 + offset)\n",
    "            for ii in range(subset):\n",
    "                y0 = int(yy[ii].numpy())\n",
    "                x0 = xx[ii]\n",
    "                z0 = zz[ii]\n",
    "                plt.scatter(x0[uu], x0[vv], s=20, color=cmap(y0))\n",
    "                utils_process.confidence_ellipse(x0, z0, ax, n_std=1.0, facecolor=cmap(y0), alpha=0.005)\n",
    "\n",
    "            for ii in np.unique(yy):\n",
    "                y0 = yy[np.where(yy == ii)]\n",
    "                x0 = xx[np.where(yy == ii)]\n",
    "                plt.scatter(x0[0, uu], x0[0, vv], s=50, label=str(int(ii)), color=cmap(int(y0[0].numpy())))\n",
    "            plt.legend(title = 'Digit', loc= 'lower right')\n",
    "            plt.xlabel('Z[' + str(uu) + ']')\n",
    "            plt.ylabel('Z[' + str(vv) + ']')\n",
    "            plt.title(title_str)"
   ]
  },
  {
   "cell_type": "code",
   "execution_count": null,
   "metadata": {},
   "outputs": [],
   "source": []
  }
 ],
 "metadata": {
  "kernelspec": {
   "display_name": "Python 3",
   "language": "python",
   "name": "python3"
  },
  "language_info": {
   "codemirror_mode": {
    "name": "ipython",
    "version": 3
   },
   "file_extension": ".py",
   "mimetype": "text/x-python",
   "name": "python",
   "nbconvert_exporter": "python",
   "pygments_lexer": "ipython3",
   "version": "3.7.4"
  }
 },
 "nbformat": 4,
 "nbformat_minor": 4
}
