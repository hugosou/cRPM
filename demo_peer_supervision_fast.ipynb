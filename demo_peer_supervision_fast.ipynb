{
 "cells": [
  {
   "cell_type": "markdown",
   "metadata": {},
   "source": [
    "# Recognition Parametrized Model (RPM): Peer Supervision\n",
    "\n",
    "\n",
    "Observations $\\mathcal{X} = \\{ x_j \\}$ are groups of MNIST images representing $J$ different renderings of the same digit. The RPM to extract this information without explicit label information - a setting that might be termed \"peer-supervision\". The model writes:\n",
    "\n",
    "$$ \\mathsf{P_{\\theta}}(\\mathcal{X}, \\mathcal{Z}) = \\mathsf{p_{\\theta_z}}(\\mathcal{Z}) \\prod_{j} \\left( \\mathsf{p_{0,j}}(\\mathsf{x_{j}}) \\frac{\\mathsf{f_{\\theta j}}(\\mathsf{\\mathcal{Z}} | \\mathsf{x_{j}})}{\\mathsf{F_{\\theta j}}(\\mathcal{Z})} \\right) $$\n",
    "\n",
    "## Load and Rearanged MNIST"
   ]
  },
  {
   "cell_type": "code",
   "execution_count": 1,
   "metadata": {},
   "outputs": [
    {
     "name": "stderr",
     "output_type": "stream",
     "text": [
      "/nfs/ghome/live/hugos/anaconda3/lib/python3.7/site-packages/torchvision/datasets/mnist.py:75: UserWarning: train_data has been renamed data\n",
      "  warnings.warn(\"train_data has been renamed data\")\n",
      "/nfs/ghome/live/hugos/anaconda3/lib/python3.7/site-packages/torchvision/datasets/mnist.py:65: UserWarning: train_labels has been renamed targets\n",
      "  warnings.warn(\"train_labels has been renamed targets\")\n",
      "/nfs/ghome/live/hugos/anaconda3/lib/python3.7/site-packages/torchvision/datasets/mnist.py:80: UserWarning: test_data has been renamed data\n",
      "  warnings.warn(\"test_data has been renamed data\")\n",
      "/nfs/ghome/live/hugos/anaconda3/lib/python3.7/site-packages/torchvision/datasets/mnist.py:70: UserWarning: test_labels has been renamed targets\n",
      "  warnings.warn(\"test_labels has been renamed targets\")\n"
     ]
    }
   ],
   "source": [
    "import pickle\n",
    "import numpy as np\n",
    "from datetime import datetime\n",
    "import matplotlib.pyplot as plt\n",
    "from utils_process import plot_loss\n",
    "\n",
    "import torch\n",
    "from torchvision import datasets\n",
    "from torchvision.transforms import ToTensor\n",
    "\n",
    "from utils_demo import rearrange_mnist\n",
    "\n",
    "from fast_rpm import RPM\n",
    "import torch.nn.functional as F\n",
    "\n",
    "\n",
    "data_folder = './../MNIST'\n",
    "\n",
    "# Load MNIST\n",
    "train_data = datasets.MNIST(\n",
    "    root=data_folder,\n",
    "    train=True,\n",
    "    transform=ToTensor(),\n",
    "    download=True,\n",
    ")\n",
    "\n",
    "test_data = datasets.MNIST(\n",
    "    root=data_folder,\n",
    "    train=False,\n",
    "    transform=ToTensor()\n",
    ")\n",
    "\n",
    "# Random seeds\n",
    "torch.manual_seed(2)\n",
    "\n",
    "# Number of Conditionally independent Factors\n",
    "num_factors = 2\n",
    "\n",
    "# Sub-Sample original dataset\n",
    "train_length = 60000\n",
    "\n",
    "# Keep Only some digits (for efficiency)\n",
    "sub_ids = torch.tensor([0, 1, 2, 3, 4, 5, 6, 7, 8, 9])\n",
    "sub_ids = torch.tensor([0, 1, 2, 3, 4])\n",
    "num_digits = len(sub_ids)\n",
    "\n",
    "# Rearrange MNIST by grouping num_factors Conditionally independent Observations together\n",
    "observations, train_images, train_labels = rearrange_mnist(\n",
    "    train_data.train_data, \n",
    "    train_data.train_labels, \n",
    "    num_factors, \n",
    "    train_length=train_length,\n",
    "    sub_ids=sub_ids\n",
    ")\n",
    "\n",
    "\n",
    "# Rearrange MNIST by grouping num_factors Conditionally independent Observations together\n",
    "observations_test, test_images, test_labels = rearrange_mnist(\n",
    "    test_data.test_data, \n",
    "    test_data.test_labels, \n",
    "    num_factors, \n",
    "    train_length=test_data.test_labels.shape[0],\n",
    "    sub_ids=sub_ids\n",
    ")\n",
    "test_labels = test_labels.reshape(observations_test[0].shape[0], num_factors)\n",
    "            "
   ]
  },
  {
   "cell_type": "markdown",
   "metadata": {},
   "source": [
    "## Typical Observations"
   ]
  },
  {
   "cell_type": "code",
   "execution_count": 3,
   "metadata": {},
   "outputs": [
    {
     "data": {
      "image/png": "[encoded data removed]",
      "text/plain": [
       "<Figure size 864x288 with 12 Axes>"
      ]
     },
     "metadata": {},
     "output_type": "display_data"
    }
   ],
   "source": [
    "num_plot = np.arange(6)\n",
    "plt.figure(figsize=(len(num_plot)*2, num_factors*2))\n",
    "for obsi in range(len(num_plot)):\n",
    "    for facti in range(num_factors):\n",
    "        plt.subplot(num_factors, len(num_plot), (1+obsi) + facti * len(num_plot))\n",
    "        plt.imshow(observations[facti][num_plot[obsi], :, :], cmap='gray')\n",
    "        plt.xticks([])\n",
    "        plt.yticks([])\n",
    "        if facti == 0:\n",
    "            plt.title('Obs. n=' + str(obsi))\n",
    "        if obsi == 0:\n",
    "            plt.ylabel('Factor. j=' + str(facti))"
   ]
  },
  {
   "cell_type": "markdown",
   "metadata": {},
   "source": [
    "## Fit"
   ]
  },
  {
   "cell_type": "code",
   "execution_count": 4,
   "metadata": {},
   "outputs": [],
   "source": [
    "# GPUs ?\n",
    "device = torch.device('cuda' if torch.cuda.is_available() else 'cpu')\n",
    "\n",
    "# Data type: float64 / float32\n",
    "data_type = torch.float32\n",
    "torch.set_default_dtype(data_type)\n",
    "\n",
    "# Training Move to GPU\n",
    "obs = [(obsi / obsi.max()).to(device) for obsi in observations]\n",
    "\n",
    "# Testing Move to GPU\n",
    "obs_test = [(obsi / obsi.max()).to(device) for obsi in observations_test]"
   ]
  },
  {
   "cell_type": "code",
   "execution_count": 9,
   "metadata": {},
   "outputs": [
    {
     "name": "stdout",
     "output_type": "stream",
     "text": [
      "RPM on GPU Observations on cuda:0\n"
     ]
    }
   ],
   "source": [
    "# Fit params\n",
    "prior_params = {\n",
    "    'gp_kernel': 'RBF',\n",
    "    'scale': 1,\n",
    "    'lengthscale': 0.01,\n",
    "    'fit_kernel_scale': False,\n",
    "    'fit_kernel_scale_prior': False,\n",
    "    'fit_kernel_lengthscale': False,\n",
    "    'fit_kernel_lengthscale_prior': False,\n",
    "    'fit_prior_mean_param': False,\n",
    "    'optimizer': lambda params: torch.optim.Adam(params=params, lr=1e-3),\n",
    "}\n",
    "\n",
    "factors_params = {\n",
    "    'channels': [[1, 10, 20], [1, 10, 20]],\n",
    "    'kernel_conv': [[5, 5], [5, 5]],\n",
    "    'kernel_pool': [[2, 2], [2, 2]],\n",
    "    'dim_hidden': [[50], [50]],\n",
    "    'nonlinearity': [F.relu, F.relu],\n",
    "    'covariance': ['fixed_diag', 'fixed_diag'],\n",
    "    'optimizer': lambda params: torch.optim.Adam(params=params, lr=1e-3),\n",
    "}\n",
    "\n",
    "auxiliary_params = {\n",
    "    'channels': [[1, 10, 20], [1, 10, 20]],\n",
    "    'kernel_conv': [[5, 5], [5, 5]],\n",
    "    'kernel_pool': [[2, 2], [2, 2]],\n",
    "    'dim_hidden': [[50], [50]],\n",
    "    'nonlinearity': [F.relu, F.relu],\n",
    "    'covariance': ['fixed_diag', 'fixed_diag'],\n",
    "    'optimizer': lambda params: torch.optim.Adam(params=params, lr=1e-3),\n",
    "}\n",
    "\n",
    "\n",
    "fit_params = {\n",
    "    'num_epoch': 300,\n",
    "    'batch_size': 2000,\n",
    "    'dim_latent': 3,\n",
    "    'prior_params': prior_params,\n",
    "    'factors_params': factors_params,\n",
    "    'auxiliary_params': auxiliary_params,\n",
    "    'ergodic': False,\n",
    "    'pct': 0.01\n",
    "}\n",
    "\n",
    "rpm = RPM(\n",
    "    observations=obs,\n",
    "    fit_params=fit_params,\n",
    ")\n"
   ]
  },
  {
   "cell_type": "code",
   "execution_count": 10,
   "metadata": {},
   "outputs": [
    {
     "name": "stdout",
     "output_type": "stream",
     "text": [
      "Epoch 3/300 Loss: -1.169308e+01\n",
      "Epoch 6/300 Loss: -3.746593e+03\n",
      "Epoch 9/300 Loss: -2.554231e+05\n",
      "Epoch 12/300 Loss: -6.592535e+06\n",
      "Epoch 15/300 Loss: -8.775029e+07\n",
      "Epoch 18/300 Loss: -7.360191e+08\n",
      "Epoch 21/300 Loss: -4.405014e+09\n",
      "Epoch 24/300 Loss: -2.024863e+10\n",
      "Epoch 27/300 Loss: -7.686140e+10\n",
      "Epoch 30/300 Loss: -2.490644e+11\n",
      "Epoch 33/300 Loss: -7.068177e+11\n",
      "Epoch 36/300 Loss: -1.806155e+12\n",
      "Epoch 39/300 Loss: -4.225297e+12\n",
      "Epoch 42/300 Loss: -9.191166e+12\n",
      "Epoch 45/300 Loss: -1.874742e+13\n",
      "Epoch 48/300 Loss: -3.612851e+13\n",
      "Epoch 51/300 Loss: -6.630329e+13\n",
      "Epoch 54/300 Loss: -1.171832e+14\n",
      "Epoch 57/300 Loss: -1.992518e+14\n",
      "Epoch 60/300 Loss: -3.277512e+14\n",
      "Epoch 63/300 Loss: -5.239451e+14\n",
      "Epoch 66/300 Loss: -8.160211e+14\n",
      "Epoch 69/300 Loss: -1.237445e+15\n",
      "Epoch 72/300 Loss: -1.841475e+15\n",
      "Epoch 75/300 Loss: -2.680143e+15\n",
      "Epoch 78/300 Loss: -3.856124e+15\n",
      "Epoch 81/300 Loss: -5.402382e+15\n",
      "Epoch 84/300 Loss: -7.506792e+15\n",
      "Epoch 87/300 Loss: -1.027461e+16\n",
      "Epoch 90/300 Loss: -1.389612e+16\n",
      "Epoch 93/300 Loss: -1.851532e+16\n",
      "Epoch 96/300 Loss: -2.450331e+16\n",
      "Epoch 99/300 Loss: -3.194900e+16\n",
      "Epoch 102/300 Loss: -4.141578e+16\n",
      "Epoch 105/300 Loss: -5.310694e+16\n",
      "Epoch 108/300 Loss: -6.741398e+16\n",
      "Epoch 111/300 Loss: -8.483371e+16\n",
      "Epoch 114/300 Loss: -1.061654e+17\n",
      "Epoch 117/300 Loss: -1.315012e+17\n",
      "Epoch 120/300 Loss: -1.627464e+17\n",
      "Epoch 123/300 Loss: -1.999593e+17\n",
      "Epoch 126/300 Loss: -2.443040e+17\n",
      "Epoch 129/300 Loss: -2.949804e+17\n",
      "Epoch 132/300 Loss: -3.553128e+17\n",
      "Epoch 135/300 Loss: -4.257290e+17\n",
      "Epoch 138/300 Loss: -5.082729e+17\n",
      "Epoch 141/300 Loss: -6.048478e+17\n",
      "Epoch 144/300 Loss: -7.140929e+17\n",
      "Epoch 147/300 Loss: -8.402401e+17\n",
      "Epoch 150/300 Loss: -9.849743e+17\n",
      "Epoch 153/300 Loss: -1.151606e+18\n",
      "Epoch 156/300 Loss: -1.344142e+18\n",
      "Epoch 159/300 Loss: -1.556829e+18\n",
      "Epoch 162/300 Loss: -1.802961e+18\n",
      "Epoch 165/300 Loss: -2.078128e+18\n",
      "Epoch 168/300 Loss: -2.386309e+18\n",
      "Epoch 171/300 Loss: -2.725156e+18\n",
      "Epoch 174/300 Loss: -3.121215e+18\n",
      "Epoch 177/300 Loss: -3.563447e+18\n",
      "Epoch 180/300 Loss: -4.034769e+18\n",
      "Epoch 183/300 Loss: -4.572860e+18\n",
      "Epoch 186/300 Loss: -5.185739e+18\n",
      "Epoch 189/300 Loss: -5.835100e+18\n",
      "Epoch 192/300 Loss: -6.554633e+18\n",
      "Epoch 195/300 Loss: -7.345245e+18\n",
      "Epoch 198/300 Loss: -8.234010e+18\n",
      "Epoch 201/300 Loss: -9.209085e+18\n",
      "Epoch 204/300 Loss: -1.027672e+19\n",
      "Epoch 207/300 Loss: -1.143433e+19\n",
      "Epoch 210/300 Loss: -1.270302e+19\n",
      "Epoch 213/300 Loss: -1.407974e+19\n",
      "Epoch 216/300 Loss: -1.560913e+19\n",
      "Epoch 219/300 Loss: -1.729396e+19\n",
      "Epoch 222/300 Loss: -1.909228e+19\n",
      "Epoch 225/300 Loss: -2.106048e+19\n",
      "Epoch 228/300 Loss: -2.314228e+19\n",
      "Epoch 231/300 Loss: -2.539772e+19\n",
      "Epoch 234/300 Loss: -2.773047e+19\n",
      "Epoch 237/300 Loss: -3.050117e+19\n",
      "Epoch 240/300 Loss: -3.338742e+19\n",
      "Epoch 243/300 Loss: -3.634560e+19\n",
      "Epoch 246/300 Loss: -3.965281e+19\n",
      "Epoch 249/300 Loss: -4.323400e+19\n",
      "Epoch 252/300 Loss: -4.701984e+19\n",
      "Epoch 255/300 Loss: -5.118838e+19\n",
      "Epoch 258/300 Loss: -5.548111e+19\n",
      "Epoch 261/300 Loss: -6.004594e+19\n",
      "Epoch 264/300 Loss: -6.535707e+19\n",
      "Epoch 267/300 Loss: -7.047201e+19\n",
      "Epoch 270/300 Loss: -7.637632e+19\n",
      "Epoch 273/300 Loss: -8.246978e+19\n",
      "Epoch 276/300 Loss: -8.883539e+19\n",
      "Epoch 279/300 Loss: -9.542862e+19\n",
      "Epoch 282/300 Loss: -1.032140e+20\n",
      "Epoch 285/300 Loss: -1.105404e+20\n",
      "Epoch 288/300 Loss: -1.191547e+20\n",
      "Epoch 291/300 Loss: -1.273024e+20\n",
      "Epoch 294/300 Loss: -1.365387e+20\n",
      "Epoch 297/300 Loss: -1.464931e+20\n",
      "Epoch 300/300 Loss: -1.568100e+20\n"
     ]
    }
   ],
   "source": [
    "rpm.fit(obs)"
   ]
  },
  {
   "cell_type": "code",
   "execution_count": 7,
   "metadata": {},
   "outputs": [
    {
     "data": {
      "text/plain": [
       "[tensor([[[-6.5892e+07, -6.5503e+07,  6.7052e+07],\n",
       "          [-7.2153e+07, -7.1727e+07,  7.3423e+07],\n",
       "          [-5.6347e+07, -5.6014e+07,  5.7338e+07],\n",
       "          ...,\n",
       "          [-6.7183e+07, -6.6786e+07,  6.8365e+07],\n",
       "          [-6.1428e+07, -6.1065e+07,  6.2508e+07],\n",
       "          [-5.9562e+07, -5.9210e+07,  6.0609e+07]],\n",
       " \n",
       "         [[-1.0946e+08, -1.0879e+08,  1.1148e+08],\n",
       "          [-1.1711e+08, -1.1641e+08,  1.1928e+08],\n",
       "          [-9.4343e+07, -9.3773e+07,  9.6086e+07],\n",
       "          ...,\n",
       "          [-1.1582e+08, -1.1512e+08,  1.1796e+08],\n",
       "          [-1.0656e+08, -1.0591e+08,  1.0852e+08],\n",
       "          [-1.0290e+08, -1.0228e+08,  1.0480e+08]]], device='cuda:0',\n",
       "        grad_fn=<CatBackward0>), tensor([[[-1., -0., -0.],\n",
       "          [-0., -1., -0.],\n",
       "          [-0., -0., -1.]],\n",
       " \n",
       "         [[-1., -0., -0.],\n",
       "          [-0., -1., -0.],\n",
       "          [-0., -0., -1.]]], device='cuda:0')]"
      ]
     },
     "execution_count": 7,
     "metadata": {},
     "output_type": "execute_result"
    }
   ],
   "source": [
    "rpm.forwarded_auxiliary\n",
    "rpm.forwarded_factors"
   ]
  },
  {
   "cell_type": "code",
   "execution_count": 11,
   "metadata": {},
   "outputs": [
    {
     "data": {
      "image/png": "[encoded data removed]",
      "text/plain": [
       "<Figure size 432x288 with 1 Axes>"
      ]
     },
     "metadata": {
      "needs_background": "light"
     },
     "output_type": "display_data"
    }
   ],
   "source": [
    "plot_loss(rpm, offset=0)"
   ]
  },
  {
   "cell_type": "code",
   "execution_count": 6,
   "metadata": {},
   "outputs": [
    {
     "ename": "ValueError",
     "evalue": "Incompatible Batch Dimensions",
     "output_type": "error",
     "traceback": [
      "\u001b[0;31m---------------------------------------------------------------------------\u001b[0m",
      "\u001b[0;31mValueError\u001b[0m                                Traceback (most recent call last)",
      "\u001b[0;32m<ipython-input-6-4d4439b457ba>\u001b[0m in \u001b[0;36m<module>\u001b[0;34m\u001b[0m\n\u001b[0;32m----> 1\u001b[0;31m \u001b[0mrpm\u001b[0m\u001b[0;34m.\u001b[0m\u001b[0mget_posteriors\u001b[0m\u001b[0;34m(\u001b[0m\u001b[0mobs_test\u001b[0m\u001b[0;34m)\u001b[0m\u001b[0;34m\u001b[0m\u001b[0;34m\u001b[0m\u001b[0m\n\u001b[0m",
      "\u001b[0;32m~/Documents/PYTHON/fRPM/fast_rpm.py\u001b[0m in \u001b[0;36mget_posteriors\u001b[0;34m(self, observations)\u001b[0m\n\u001b[1;32m    186\u001b[0m                 \u001b[0minit_natural\u001b[0m\u001b[0;34m=\u001b[0m\u001b[0;32mTrue\u001b[0m\u001b[0;34m,\u001b[0m\u001b[0;34m\u001b[0m\u001b[0;34m\u001b[0m\u001b[0m\n\u001b[1;32m    187\u001b[0m                 \u001b[0minit_cholesky\u001b[0m\u001b[0;34m=\u001b[0m\u001b[0;32mFalse\u001b[0m\u001b[0;34m,\u001b[0m\u001b[0;34m\u001b[0m\u001b[0;34m\u001b[0m\u001b[0m\n\u001b[0;32m--> 188\u001b[0;31m                 \u001b[0mstore_suff_stat_mean\u001b[0m\u001b[0;34m=\u001b[0m\u001b[0;32mTrue\u001b[0m\u001b[0;34m,\u001b[0m\u001b[0;34m\u001b[0m\u001b[0;34m\u001b[0m\u001b[0m\n\u001b[0m\u001b[1;32m    189\u001b[0m             )\n\u001b[1;32m    190\u001b[0m \u001b[0;34m\u001b[0m\u001b[0m\n",
      "\u001b[0;32m~/Documents/PYTHON/fRPM/flexible_multivariate_normal.py\u001b[0m in \u001b[0;36m__init__\u001b[0;34m(self, param_vector, param_matrix, init_natural, init_cholesky, store_param_chol, store_natural_chol, store_suff_stat_mean, store_suff_stat_variance, jitter)\u001b[0m\n\u001b[1;32m     57\u001b[0m \u001b[0;34m\u001b[0m\u001b[0m\n\u001b[1;32m     58\u001b[0m         \u001b[0;32mif\u001b[0m \u001b[0;32mnot\u001b[0m \u001b[0;34m(\u001b[0m\u001b[0mbatch_shape_vec\u001b[0m \u001b[0;34m==\u001b[0m \u001b[0mbatch_shape_mat\u001b[0m\u001b[0;34m)\u001b[0m\u001b[0;34m:\u001b[0m\u001b[0;34m\u001b[0m\u001b[0;34m\u001b[0m\u001b[0m\n\u001b[0;32m---> 59\u001b[0;31m             \u001b[0;32mraise\u001b[0m \u001b[0mValueError\u001b[0m\u001b[0;34m(\u001b[0m\u001b[0;34m\"Incompatible Batch Dimensions\"\u001b[0m\u001b[0;34m)\u001b[0m\u001b[0;34m\u001b[0m\u001b[0;34m\u001b[0m\u001b[0m\n\u001b[0m\u001b[1;32m     60\u001b[0m \u001b[0;34m\u001b[0m\u001b[0m\n\u001b[1;32m     61\u001b[0m         \u001b[0;32mif\u001b[0m \u001b[0;32mnot\u001b[0m \u001b[0;34m(\u001b[0m\u001b[0mevent_shape_mat\u001b[0m\u001b[0;34m[\u001b[0m\u001b[0;36m0\u001b[0m\u001b[0;34m]\u001b[0m \u001b[0;34m==\u001b[0m \u001b[0mevent_shape_vec\u001b[0m\u001b[0;34m)\u001b[0m \u001b[0;32mor\u001b[0m \u001b[0;32mnot\u001b[0m \u001b[0;34m(\u001b[0m\u001b[0mevent_shape_mat\u001b[0m\u001b[0;34m[\u001b[0m\u001b[0;36m1\u001b[0m\u001b[0;34m]\u001b[0m \u001b[0;34m==\u001b[0m \u001b[0mevent_shape_vec\u001b[0m\u001b[0;34m)\u001b[0m\u001b[0;34m:\u001b[0m\u001b[0;34m\u001b[0m\u001b[0;34m\u001b[0m\u001b[0m\n",
      "\u001b[0;31mValueError\u001b[0m: Incompatible Batch Dimensions"
     ]
    }
   ],
   "source": [
    "rpm.get_posteriors(obs_test)"
   ]
  },
  {
   "cell_type": "markdown",
   "metadata": {},
   "source": [
    "## Latent Distribution Embeddings of test images"
   ]
  },
  {
   "cell_type": "code",
   "execution_count": 2,
   "metadata": {},
   "outputs": [
    {
     "ename": "NameError",
     "evalue": "name 'obs_test' is not defined",
     "output_type": "error",
     "traceback": [
      "\u001b[0;31m---------------------------------------------------------------------------\u001b[0m",
      "\u001b[0;31mNameError\u001b[0m                                 Traceback (most recent call last)",
      "\u001b[0;32m<ipython-input-2-ad5c97b3120c>\u001b[0m in \u001b[0;36m<module>\u001b[0;34m\u001b[0m\n\u001b[1;32m      2\u001b[0m \u001b[0;32mimport\u001b[0m \u001b[0mutils_process\u001b[0m\u001b[0;34m\u001b[0m\u001b[0;34m\u001b[0m\u001b[0m\n\u001b[1;32m      3\u001b[0m \u001b[0;32mwith\u001b[0m \u001b[0mtorch\u001b[0m\u001b[0;34m.\u001b[0m\u001b[0mno_grad\u001b[0m\u001b[0;34m(\u001b[0m\u001b[0;34m)\u001b[0m\u001b[0;34m:\u001b[0m\u001b[0;34m\u001b[0m\u001b[0;34m\u001b[0m\u001b[0m\n\u001b[0;32m----> 4\u001b[0;31m     \u001b[0mrpm\u001b[0m\u001b[0;34m.\u001b[0m\u001b[0mnum_observation_batch\u001b[0m \u001b[0;34m=\u001b[0m \u001b[0mobs_test\u001b[0m\u001b[0;34m[\u001b[0m\u001b[0;36m0\u001b[0m\u001b[0;34m]\u001b[0m\u001b[0;34m.\u001b[0m\u001b[0mshape\u001b[0m\u001b[0;34m[\u001b[0m\u001b[0;36m0\u001b[0m\u001b[0;34m]\u001b[0m\u001b[0;34m\u001b[0m\u001b[0;34m\u001b[0m\u001b[0m\n\u001b[0m\u001b[1;32m      5\u001b[0m     \u001b[0mrpm\u001b[0m\u001b[0;34m.\u001b[0m\u001b[0m_update_factors\u001b[0m\u001b[0;34m(\u001b[0m\u001b[0mobs_test\u001b[0m\u001b[0;34m)\u001b[0m\u001b[0;34m\u001b[0m\u001b[0;34m\u001b[0m\u001b[0m\n\u001b[1;32m      6\u001b[0m \u001b[0;34m\u001b[0m\u001b[0m\n",
      "\u001b[0;31mNameError\u001b[0m: name 'obs_test' is not defined"
     ]
    }
   ],
   "source": [
    "# Forward test data\n",
    "import utils_process\n",
    "with torch.no_grad():\n",
    "    rpm.num_observation_batch = obs_test[0].shape[0]\n",
    "    rpm._update_factors(obs_test)\n",
    "\n",
    "    \n",
    "# Select One factor\n",
    "J = 0\n",
    "mean, vari = [\n",
    "    xx[J].detach().clone().cpu().numpy()\n",
    "    for xx in rpm.dist_factors.mean_covariance()\n",
    "]\n",
    "\n",
    "\n",
    "# Plot testing Data\n",
    "subset = 250\n",
    "xx = mean[:subset]\n",
    "zz = vari[:subset]\n",
    "yy = test_labels[:subset, J]\n",
    "cmap = plt.get_cmap(\"tab10\")\n",
    "\n",
    "\n",
    "fig, ax = plt.subplots(figsize=(7, 7))\n",
    "for ii in range(subset):\n",
    "    y0 = int(yy[ii].numpy())\n",
    "    x0 = xx[ii, 0]\n",
    "    z0 = zz[ii, 0]\n",
    "    plt.scatter(x0[0], x0[1], s=20, color=cmap(y0))\n",
    "    utils_process.confidence_ellipse(x0, z0, ax, n_std=1.0, facecolor=cmap(y0), alpha=0.01)\n",
    "    \n",
    "for ii in np.unique(yy):\n",
    "    y0 = yy[np.where(yy == ii)]\n",
    "    x0 = xx[np.where(yy == ii)]\n",
    "    plt.scatter(x0[0, 0, 0], x0[0, 0, 1], s=50, label=str(int(ii)), color=cmap(int(y0[0].numpy())))\n",
    "plt.legend(title = 'Digit')\n",
    "plt.xlabel('Z[1]')\n",
    "plt.ylabel('Z[2]')\n",
    "plt.title('Posterior Distribution f(. | x' + str(J) + ')')"
   ]
  },
  {
   "cell_type": "code",
   "execution_count": null,
   "metadata": {},
   "outputs": [],
   "source": []
  }
 ],
 "metadata": {
  "kernelspec": {
   "display_name": "Python 3",
   "language": "python",
   "name": "python3"
  },
  "language_info": {
   "codemirror_mode": {
    "name": "ipython",
    "version": 3
   },
   "file_extension": ".py",
   "mimetype": "text/x-python",
   "name": "python",
   "nbconvert_exporter": "python",
   "pygments_lexer": "ipython3",
   "version": "3.7.4"
  }
 },
 "nbformat": 4,
 "nbformat_minor": 4
}
