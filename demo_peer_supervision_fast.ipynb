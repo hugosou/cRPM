{
 "cells": [
  {
   "cell_type": "markdown",
   "metadata": {},
   "source": [
    "# Recognition Parametrized Model (RPM): Peer Supervision\n",
    "\n",
    "\n",
    "Observations $\\mathcal{X} = \\{ x_j \\}$ are groups of MNIST images representing $J$ different renderings of the same digit. The RPM to extract this information without explicit label information - a setting that might be termed \"peer-supervision\". The model writes:\n",
    "\n",
    "$$ \\mathsf{P_{\\theta}}(\\mathcal{X}, \\mathcal{Z}) = \\mathsf{p_{\\theta_z}}(\\mathcal{Z}) \\prod_{j} \\left( \\mathsf{p_{0,j}}(\\mathsf{x_{j}}) \\frac{\\mathsf{f_{\\theta j}}(\\mathsf{\\mathcal{Z}} | \\mathsf{x_{j}})}{\\mathsf{F_{\\theta j}}(\\mathcal{Z})} \\right) $$\n",
    "\n",
    "## Load and Rearanged MNIST"
   ]
  },
  {
   "cell_type": "code",
   "execution_count": 2,
   "metadata": {},
   "outputs": [],
   "source": [
    "import pickle\n",
    "import numpy as np\n",
    "from datetime import datetime\n",
    "import matplotlib.pyplot as plt\n",
    "from utils_process import plot_loss\n",
    "\n",
    "import torch\n",
    "from torchvision import datasets\n",
    "from torchvision.transforms import ToTensor\n",
    "\n",
    "from utils_demo import rearrange_mnist\n",
    "\n",
    "from fast_rpm import RPM\n",
    "import torch.nn.functional as F\n",
    "\n",
    "\n",
    "data_folder = './../MNIST'\n",
    "\n",
    "# Load MNIST\n",
    "train_data = datasets.MNIST(\n",
    "    root=data_folder,\n",
    "    train=True,\n",
    "    transform=ToTensor(),\n",
    "    download=True,\n",
    ")\n",
    "\n",
    "test_data = datasets.MNIST(\n",
    "    root=data_folder,\n",
    "    train=False,\n",
    "    transform=ToTensor()\n",
    ")\n",
    "\n",
    "# Random seeds\n",
    "torch.manual_seed(10)\n",
    "\n",
    "# Number of Conditionally independent Factors\n",
    "num_factors = 2\n",
    "\n",
    "# Sub-Sample original dataset\n",
    "train_length = 60000\n",
    "\n",
    "# Keep Only some digits (for efficiency)\n",
    "sub_ids = torch.tensor([0, 1, 2, 3, 4, 5, 6, 7, 8, 9])\n",
    "sub_ids = torch.tensor([0, 1])\n",
    "num_digits = len(sub_ids)\n",
    "\n",
    "# Rearrange MNIST by grouping num_factors Conditionally independent Observations together\n",
    "observations, train_images, train_labels = rearrange_mnist(\n",
    "    train_data.train_data, \n",
    "    train_data.train_labels, \n",
    "    num_factors, \n",
    "    train_length=train_length,\n",
    "    sub_ids=sub_ids\n",
    ")\n",
    "\n",
    "\n",
    "# Rearrange MNIST by grouping num_factors Conditionally independent Observations together\n",
    "observations_test, test_images, test_labels = rearrange_mnist(\n",
    "    test_data.test_data, \n",
    "    test_data.test_labels, \n",
    "    num_factors, \n",
    "    train_length=test_data.test_labels.shape[0],\n",
    "    sub_ids=sub_ids\n",
    ")\n",
    "test_labels = test_labels.reshape(observations_test[0].shape[0], num_factors)\n",
    "            "
   ]
  },
  {
   "cell_type": "markdown",
   "metadata": {},
   "source": [
    "\n",
    "## Typical Observations"
   ]
  },
  {
   "cell_type": "code",
   "execution_count": 3,
   "metadata": {},
   "outputs": [
    {
     "data": {
      "image/png": "[encoded data removed]",
      "text/plain": [
       "<Figure size 864x288 with 12 Axes>"
      ]
     },
     "metadata": {},
     "output_type": "display_data"
    }
   ],
   "source": [
    "num_plot = np.arange(6)\n",
    "plt.figure(figsize=(len(num_plot)*2, num_factors*2))\n",
    "for obsi in range(len(num_plot)):\n",
    "    for facti in range(num_factors):\n",
    "        plt.subplot(num_factors, len(num_plot), (1+obsi) + facti * len(num_plot))\n",
    "        plt.imshow(observations[facti][num_plot[obsi], :, :], cmap='gray')\n",
    "        plt.xticks([])\n",
    "        plt.yticks([])\n",
    "        if facti == 0:\n",
    "            plt.title('Obs. n=' + str(obsi))\n",
    "        if obsi == 0:\n",
    "            plt.ylabel('Factor. j=' + str(facti))"
   ]
  },
  {
   "cell_type": "markdown",
   "metadata": {},
   "source": [
    "## Fit"
   ]
  },
  {
   "cell_type": "code",
   "execution_count": 4,
   "metadata": {},
   "outputs": [],
   "source": [
    "# GPUs ?\n",
    "device = torch.device('cuda' if torch.cuda.is_available() else 'cpu')\n",
    "\n",
    "# Data type: float64 / float32\n",
    "data_type = torch.float32\n",
    "torch.set_default_dtype(data_type)\n",
    "\n",
    "# Training Move to GPU\n",
    "obs = [(obsi / obsi.max()).to(device) for obsi in observations]\n",
    "\n",
    "# Testing Move to GPU\n",
    "obs_test = [(obsi / obsi.max()).to(device) for obsi in observations_test]"
   ]
  },
  {
   "cell_type": "code",
   "execution_count": 5,
   "metadata": {},
   "outputs": [],
   "source": [
    "obs[1] += 3 * torch.rand(obs[1].shape, device=device)\n",
    "obs_test[1] += 3 * torch.rand(obs_test[1].shape, device=device)\n"
   ]
  },
  {
   "cell_type": "code",
   "execution_count": 6,
   "metadata": {},
   "outputs": [
    {
     "data": {
      "text/plain": [
       "<matplotlib.image.AxesImage at 0x7f3c0c78a890>"
      ]
     },
     "execution_count": 6,
     "metadata": {},
     "output_type": "execute_result"
    },
    {
     "data": {
      "image/png": "[encoded data removed]",
      "text/plain": [
       "<Figure size 432x288 with 1 Axes>"
      ]
     },
     "metadata": {
      "needs_background": "light"
     },
     "output_type": "display_data"
    },
    {
     "data": {
      "image/png": "[encoded data removed]",
      "text/plain": [
       "<Figure size 432x288 with 1 Axes>"
      ]
     },
     "metadata": {
      "needs_background": "light"
     },
     "output_type": "display_data"
    }
   ],
   "source": [
    "nn = 90\n",
    "oplot = obs \n",
    "\n",
    "plt.figure()\n",
    "plt.imshow(oplot[0][nn].to(\"cpu\"))\n",
    "\n",
    "plt.figure()\n",
    "plt.imshow(oplot[1][nn].to(\"cpu\"))"
   ]
  },
  {
   "cell_type": "code",
   "execution_count": 7,
   "metadata": {},
   "outputs": [
    {
     "data": {
      "text/plain": [
       "Text(0.5, 0, 'Epoch')"
      ]
     },
     "execution_count": 7,
     "metadata": {},
     "output_type": "execute_result"
    },
    {
     "data": {
      "image/png": "[encoded data removed]",
      "text/plain": [
       "<Figure size 216x144 with 1 Axes>"
      ]
     },
     "metadata": {
      "needs_background": "light"
     },
     "output_type": "display_data"
    }
   ],
   "source": [
    "\n",
    "num_epoch = 2000\n",
    "alpha =  40\n",
    "beta = 300\n",
    "\n",
    "lr_sigmoid = lambda xx: np.exp(- 1 / ((xx + 1) * alpha) ** 2)\n",
    "\n",
    "\n",
    "lr_sigmoid = lambda xx: np.exp(xx) / (1 + np.exp(xx))\n",
    "lr_sigmoid1 = lambda xx: lr_sigmoid((xx-beta)/alpha) - lr_sigmoid((0-beta)/alpha) \n",
    "lr_sigmoidf = lambda xx: lr_sigmoid1(xx) / lr_sigmoid1(num_epoch)\n",
    " \n",
    "\n",
    "\n",
    "\n",
    "xx = np.arange(num_epoch)\n",
    "yy = lr_sigmoidf(xx)\n",
    "\n",
    "plt.figure(figsize=(3, 2))\n",
    "plt.plot(xx, yy, c='k')\n",
    "plt.title('Learning Rate Profile')\n",
    "plt.xlabel('Epoch')"
   ]
  },
  {
   "cell_type": "code",
   "execution_count": 19,
   "metadata": {},
   "outputs": [
    {
     "name": "stdout",
     "output_type": "stream",
     "text": [
      "RPM on GPU Observations on cuda:0\n"
     ]
    }
   ],
   "source": [
    "# Fit params\n",
    "\n",
    "factors_params = {\n",
    "    'channels': [[1, 10, 20], [1, 10, 20]],\n",
    "    'kernel_conv': [[5, 5], [5, 5]],\n",
    "    'kernel_pool': [[2, 2], [2, 2]],\n",
    "    'dim_hidden': [[50], [50]],\n",
    "    'nonlinearity': [F.relu, F.relu],\n",
    "    'optimizer': lambda params: torch.optim.Adam(params=params, lr=1e-4),\n",
    "    #'scheduler': lambda optim: torch.optim.lr_scheduler.LambdaLR(optim, lr_sigmoid),\n",
    "}\n",
    "\n",
    "fit_params = {\n",
    "    'num_epoch': 712,\n",
    "    'batch_size': 2000,\n",
    "    'dim_latent': 2,\n",
    "    'factors_params': factors_params,\n",
    "    'pct': 0.01\n",
    "}\n",
    "\n",
    "rpm = RPM(\n",
    "    observations=obs,\n",
    "    fit_params=fit_params,\n",
    ")\n"
   ]
  },
  {
   "cell_type": "code",
   "execution_count": 20,
   "metadata": {},
   "outputs": [
    {
     "data": {
      "text/plain": [
       "tensor([[-0.4509,  0.9406,  0.2494],\n",
       "        [-0.1463, -0.7950,  1.0223]], device='cuda:0', requires_grad=True)"
      ]
     },
     "execution_count": 20,
     "metadata": {},
     "output_type": "execute_result"
    }
   ],
   "source": [
    "rpm.precision_chol_vec_factors"
   ]
  },
  {
   "cell_type": "code",
   "execution_count": 21,
   "metadata": {},
   "outputs": [
    {
     "data": {
      "text/plain": [
       "tensor([[-0.4572, -1.0607,  0.4567],\n",
       "        [-1.3313, -0.1225, -0.6685]], device='cuda:0', requires_grad=True)"
      ]
     },
     "execution_count": 21,
     "metadata": {},
     "output_type": "execute_result"
    }
   ],
   "source": [
    "rpm.precision_chol_vec_auxiliary"
   ]
  },
  {
   "cell_type": "code",
   "execution_count": 22,
   "metadata": {},
   "outputs": [
    {
     "data": {
      "text/plain": [
       "torch.float32"
      ]
     },
     "execution_count": 22,
     "metadata": {},
     "output_type": "execute_result"
    }
   ],
   "source": [
    "with torch.no_grad():\n",
    "    tmp = rpm._get_loss()\n",
    "tmp.dtype"
   ]
  },
  {
   "cell_type": "code",
   "execution_count": 23,
   "metadata": {},
   "outputs": [
    {
     "name": "stdout",
     "output_type": "stream",
     "text": [
      "Epoch 7/712 Loss: 1.645279e+01\n",
      "Epoch 14/712 Loss: 1.644033e+01\n",
      "Epoch 21/712 Loss: 1.642882e+01\n",
      "Epoch 28/712 Loss: 1.641750e+01\n",
      "Epoch 35/712 Loss: 1.640625e+01\n",
      "Epoch 42/712 Loss: 1.639503e+01\n",
      "Epoch 49/712 Loss: 1.638388e+01\n",
      "Epoch 56/712 Loss: 1.637280e+01\n",
      "Epoch 63/712 Loss: 1.636177e+01\n",
      "Epoch 70/712 Loss: 1.635080e+01\n",
      "Epoch 77/712 Loss: 1.633985e+01\n",
      "Epoch 84/712 Loss: 1.632887e+01\n",
      "Epoch 91/712 Loss: 1.631792e+01\n",
      "Epoch 98/712 Loss: 1.630699e+01\n",
      "Epoch 105/712 Loss: 1.629606e+01\n",
      "Epoch 112/712 Loss: 1.628510e+01\n",
      "Epoch 119/712 Loss: 1.627420e+01\n",
      "Epoch 126/712 Loss: 1.626325e+01\n",
      "Epoch 133/712 Loss: 1.625228e+01\n",
      "Epoch 140/712 Loss: 1.624129e+01\n",
      "Epoch 147/712 Loss: 1.623028e+01\n",
      "Epoch 154/712 Loss: 1.621923e+01\n",
      "Epoch 161/712 Loss: 1.620813e+01\n",
      "Epoch 168/712 Loss: 1.619691e+01\n",
      "Epoch 175/712 Loss: 1.618546e+01\n",
      "Epoch 182/712 Loss: 1.617380e+01\n",
      "Epoch 189/712 Loss: 1.616142e+01\n",
      "Epoch 196/712 Loss: 1.614783e+01\n",
      "Epoch 203/712 Loss: 1.613341e+01\n",
      "Epoch 210/712 Loss: 1.611909e+01\n",
      "Epoch 217/712 Loss: 1.610741e+01\n",
      "Epoch 224/712 Loss: 1.609669e+01\n",
      "Epoch 231/712 Loss: 1.608657e+01\n",
      "Epoch 238/712 Loss: 1.607612e+01\n",
      "Epoch 245/712 Loss: 1.606620e+01\n",
      "Epoch 252/712 Loss: 1.605594e+01\n",
      "Epoch 259/712 Loss: 1.604563e+01\n",
      "Epoch 266/712 Loss: 1.603543e+01\n",
      "Epoch 273/712 Loss: 1.602526e+01\n",
      "Epoch 280/712 Loss: 1.601517e+01\n",
      "Epoch 287/712 Loss: 1.600517e+01\n",
      "Epoch 294/712 Loss: 1.599537e+01\n",
      "Epoch 301/712 Loss: 1.598520e+01\n",
      "Epoch 308/712 Loss: 1.597519e+01\n",
      "Epoch 315/712 Loss: 1.596512e+01\n",
      "Epoch 322/712 Loss: 1.595518e+01\n",
      "Epoch 329/712 Loss: 1.594534e+01\n",
      "Epoch 336/712 Loss: 1.593544e+01\n",
      "Epoch 343/712 Loss: 1.592540e+01\n",
      "Epoch 350/712 Loss: 1.591549e+01\n",
      "Epoch 357/712 Loss: 1.590555e+01\n",
      "Epoch 364/712 Loss: 1.589582e+01\n",
      "Epoch 371/712 Loss: 1.588586e+01\n",
      "Epoch 378/712 Loss: 1.587598e+01\n",
      "Epoch 385/712 Loss: 1.586609e+01\n",
      "Epoch 392/712 Loss: 1.585603e+01\n",
      "Epoch 399/712 Loss: 1.584623e+01\n",
      "Epoch 406/712 Loss: 1.583643e+01\n",
      "Epoch 413/712 Loss: 1.582667e+01\n",
      "Epoch 420/712 Loss: 1.581671e+01\n",
      "Epoch 427/712 Loss: 1.580659e+01\n",
      "Epoch 434/712 Loss: 1.579667e+01\n",
      "Epoch 441/712 Loss: 1.578658e+01\n",
      "Epoch 448/712 Loss: 1.577682e+01\n",
      "Epoch 455/712 Loss: 1.576679e+01\n",
      "Epoch 462/712 Loss: 1.575711e+01\n",
      "Epoch 469/712 Loss: 1.574665e+01\n",
      "Epoch 476/712 Loss: 1.573670e+01\n",
      "Epoch 483/712 Loss: 1.572659e+01\n",
      "Epoch 490/712 Loss: 1.571653e+01\n",
      "Epoch 497/712 Loss: 1.570629e+01\n",
      "Epoch 504/712 Loss: 1.569627e+01\n",
      "Epoch 511/712 Loss: 1.568607e+01\n",
      "Epoch 518/712 Loss: 1.567578e+01\n",
      "Epoch 525/712 Loss: 1.566561e+01\n",
      "Epoch 532/712 Loss: 1.565520e+01\n",
      "Epoch 539/712 Loss: 1.564482e+01\n",
      "Epoch 546/712 Loss: 1.563457e+01\n",
      "Epoch 553/712 Loss: 1.562408e+01\n",
      "Epoch 560/712 Loss: 1.561352e+01\n",
      "Epoch 567/712 Loss: 1.560306e+01\n",
      "Epoch 574/712 Loss: 1.559240e+01\n",
      "Epoch 581/712 Loss: 1.558171e+01\n",
      "Epoch 588/712 Loss: 1.557097e+01\n",
      "Epoch 595/712 Loss: 1.556020e+01\n",
      "Epoch 602/712 Loss: 1.554931e+01\n",
      "Epoch 609/712 Loss: 1.553838e+01\n",
      "Epoch 616/712 Loss: 1.552736e+01\n",
      "Epoch 623/712 Loss: 1.551624e+01\n",
      "Epoch 630/712 Loss: 1.550506e+01\n",
      "Epoch 637/712 Loss: 1.549386e+01\n",
      "Epoch 644/712 Loss: 1.548246e+01\n",
      "Epoch 651/712 Loss: 1.547103e+01\n",
      "Epoch 658/712 Loss: 1.545955e+01\n",
      "Epoch 665/712 Loss: 1.544795e+01\n",
      "Epoch 672/712 Loss: 1.543632e+01\n",
      "Epoch 679/712 Loss: 1.542465e+01\n",
      "Epoch 686/712 Loss: 1.541296e+01\n",
      "Epoch 693/712 Loss: 1.540123e+01\n",
      "Epoch 700/712 Loss: 1.538956e+01\n",
      "Epoch 707/712 Loss: 1.537790e+01\n"
     ]
    }
   ],
   "source": [
    "rpm.fit(obs)"
   ]
  },
  {
   "cell_type": "code",
   "execution_count": null,
   "metadata": {},
   "outputs": [],
   "source": []
  },
  {
   "cell_type": "code",
   "execution_count": 18,
   "metadata": {},
   "outputs": [
    {
     "name": "stdout",
     "output_type": "stream",
     "text": [
      "tensor([[nan, nan, nan],\n",
      "        [nan, nan, nan]], device='cuda:0', requires_grad=True)\n",
      "tensor([[nan, nan, nan],\n",
      "        [nan, nan, nan]], device='cuda:0', requires_grad=True)\n"
     ]
    },
    {
     "ename": "NameError",
     "evalue": "name 'self' is not defined",
     "output_type": "error",
     "traceback": [
      "\u001b[0;31m---------------------------------------------------------------------------\u001b[0m",
      "\u001b[0;31mNameError\u001b[0m                                 Traceback (most recent call last)",
      "\u001b[0;32m<ipython-input-18-6e9ed5be0610>\u001b[0m in \u001b[0;36m<module>\u001b[0;34m\u001b[0m\n\u001b[1;32m      8\u001b[0m \u001b[0;34m\u001b[0m\u001b[0m\n\u001b[1;32m      9\u001b[0m     \u001b[0mrpm\u001b[0m\u001b[0;34m.\u001b[0m\u001b[0mepoch\u001b[0m \u001b[0;34m=\u001b[0m \u001b[0;36m709\u001b[0m\u001b[0;34m\u001b[0m\u001b[0;34m\u001b[0m\u001b[0m\n\u001b[0;32m---> 10\u001b[0;31m     \u001b[0mbatches\u001b[0m \u001b[0;34m=\u001b[0m \u001b[0mself\u001b[0m\u001b[0;34m.\u001b[0m\u001b[0mbatches\u001b[0m\u001b[0;34m[\u001b[0m\u001b[0mepoch\u001b[0m\u001b[0;34m]\u001b[0m\u001b[0;34m\u001b[0m\u001b[0;34m\u001b[0m\u001b[0m\n\u001b[0m\u001b[1;32m     11\u001b[0m \u001b[0;34m\u001b[0m\u001b[0m\n\u001b[1;32m     12\u001b[0m     \u001b[0;31m# Current epoch losses\u001b[0m\u001b[0;34m\u001b[0m\u001b[0;34m\u001b[0m\u001b[0;34m\u001b[0m\u001b[0m\n",
      "\u001b[0;31mNameError\u001b[0m: name 'self' is not defined"
     ]
    }
   ],
   "source": [
    "print(rpm.precision_chol_vec_factors)\n",
    "print(rpm.precision_chol_vec_auxiliary)\n",
    "\n",
    "\n",
    "with torch.no_grad():\n",
    "    rpm._forward_all(obs)\n",
    "    tmp = rpm._get_loss()\n",
    "    \n",
    "    rpm.epoch = 709\n",
    "    batches = self.batches[epoch]\n",
    "\n",
    "    # Current epoch losses\n",
    "    loss_batch = []\n",
    "\n",
    "    \n"
   ]
  },
  {
   "cell_type": "code",
   "execution_count": 374,
   "metadata": {},
   "outputs": [
    {
     "data": {
      "text/plain": [
       "tensor(4.7356, device='cuda:0', dtype=torch.float64)"
      ]
     },
     "execution_count": 374,
     "metadata": {},
     "output_type": "execute_result"
    }
   ],
   "source": []
  },
  {
   "cell_type": "code",
   "execution_count": 12,
   "metadata": {},
   "outputs": [
    {
     "data": {
      "image/png": "[encoded data removed]",
      "text/plain": [
       "<Figure size 432x288 with 1 Axes>"
      ]
     },
     "metadata": {
      "needs_background": "light"
     },
     "output_type": "display_data"
    }
   ],
   "source": [
    "plot_loss(rpm, offset=0)\n",
    "\n",
    "#plt.plot(rpm.loss_tot[:10])"
   ]
  },
  {
   "cell_type": "markdown",
   "metadata": {},
   "source": [
    "## Latent Distribution Embeddings of test images"
   ]
  },
  {
   "cell_type": "code",
   "execution_count": 389,
   "metadata": {},
   "outputs": [
    {
     "data": {
      "text/plain": [
       "tensor([[[-3.0033, -2.6733],\n",
       "         [-2.6733, -3.8579]],\n",
       "\n",
       "        [[-0.5417, -0.0753],\n",
       "         [-0.0753, -0.7999]]], device='cuda:0', grad_fn=<SubBackward0>)"
      ]
     },
     "execution_count": 389,
     "metadata": {},
     "output_type": "execute_result"
    }
   ],
   "source": [
    "rpm.forwarded_factors[1]\n"
   ]
  },
  {
   "cell_type": "code",
   "execution_count": 390,
   "metadata": {},
   "outputs": [
    {
     "data": {
      "image/png": "[encoded data removed]",
      "text/plain": [
       "<Figure size 1512x504 with 3 Axes>"
      ]
     },
     "metadata": {
      "needs_background": "light"
     },
     "output_type": "display_data"
    }
   ],
   "source": [
    "# Forward test data\n",
    "import utils_process\n",
    "\n",
    "dim_latent = rpm.dim_latent\n",
    "heigh = int(dim_latent * (dim_latent - 1) / 2)\n",
    "width = rpm.num_factors + 1\n",
    "plt.figure(figsize=(width * 7, heigh * 7))  \n",
    "\n",
    "for J in range(-1, rpm.num_factors):\n",
    "\n",
    "    #J = 0\n",
    "    qdist, fdist = rpm.get_posteriors(obs_test)\n",
    "\n",
    "    if J == -1:\n",
    "        mean, vari = qdist.mean_covariance()\n",
    "        title_str = 'Approximate Posterior Distribution q(. | X)'\n",
    "    else:\n",
    "        mean, vari = fdist.mean_covariance()\n",
    "        mean = mean[J]\n",
    "        vari = vari[J]\n",
    "        title_str = 'Recognition Distribution f(. | x' + str(J) + ')'\n",
    "\n",
    "    mean = mean.detach().clone().cpu().numpy()\n",
    "    vari = vari.detach().clone().cpu().numpy()\n",
    "\n",
    "\n",
    "    # Plot testing Data\n",
    "    subset = 100\n",
    "    xx = mean[:subset]\n",
    "    zz = vari[:subset]\n",
    "    yy = test_labels[:subset, J]\n",
    "    cmap = plt.get_cmap(\"tab10\")\n",
    "    \n",
    "    compt = 0\n",
    "    for uu in range(dim_latent -1):\n",
    "        for vv in range(uu+1, dim_latent):\n",
    "            offset = width * compt \n",
    "            compt += 1\n",
    "            \n",
    "            ax = plt.subplot(dim_latent, width, J + 2 + offset)\n",
    "            for ii in range(subset):\n",
    "                y0 = int(yy[ii].numpy())\n",
    "                x0 = xx[ii]\n",
    "                z0 = zz[ii]\n",
    "                plt.scatter(x0[uu], x0[vv], s=100, color=cmap(y0))\n",
    "                #utils_process.confidence_ellipse(x0[[uu, vv]], z0[[uu, vv]][:, [uu, vv]], ax, n_std=1.0, facecolor=cmap(y0), alpha=0.1)\n",
    "\n",
    "            for ii in np.unique(yy):\n",
    "                y0 = yy[np.where(yy == ii)]\n",
    "                x0 = xx[np.where(yy == ii)]\n",
    "                plt.scatter(x0[0, uu], x0[0, vv], s=100, label=str(int(ii)), color=cmap(int(y0[0].numpy())))\n",
    "                \n",
    "#            plt.xlim([-2, 2])\n",
    "#            plt.ylim([-2, 2])\n",
    "            plt.legend(title = 'Digit', loc= 'lower right')\n",
    "            plt.xlabel('Z[' + str(uu) + ']')\n",
    "            plt.ylabel('Z[' + str(vv) + ']')\n",
    "            plt.title(title_str)"
   ]
  },
  {
   "cell_type": "code",
   "execution_count": 391,
   "metadata": {},
   "outputs": [],
   "source": [
    "from flexible_multivariate_normal import FlexibleMultivariateNormal\n",
    "\n",
    "qmean, qvar = qdist.mean_covariance()\n",
    "fmean, fvar = fdist.mean_covariance()\n",
    "n1, n2 = [xx.clone().detach() for xx in rpm.forwarded_prior]\n",
    "pmean, pvar = FlexibleMultivariateNormal(n1, n2, init_cholesky=False, init_natural=True, store_suff_stat_mean=True).mean_covariance()\n",
    "pmean = pmean.cpu().numpy()\n",
    "pvar = pvar.cpu().numpy()\n",
    "\n"
   ]
  },
  {
   "cell_type": "code",
   "execution_count": 334,
   "metadata": {},
   "outputs": [
    {
     "name": "stdout",
     "output_type": "stream",
     "text": [
      "tensor([[[ 0.9452,  0.1393],\n",
      "         [ 0.1393,  0.1626]],\n",
      "\n",
      "        [[ 0.9255, -0.0352],\n",
      "         [-0.0352,  0.1170]]], device='cuda:0')\n"
     ]
    }
   ],
   "source": [
    "print(fvar[:, 0])"
   ]
  },
  {
   "cell_type": "code",
   "execution_count": null,
   "metadata": {},
   "outputs": [],
   "source": []
  },
  {
   "cell_type": "code",
   "execution_count": 331,
   "metadata": {},
   "outputs": [
    {
     "name": "stdout",
     "output_type": "stream",
     "text": [
      "tensor([[[ 0.1054, -0.5185],\n",
      "         [-0.5185,  3.0182]],\n",
      "\n",
      "        [[ 0.0465,  0.1647],\n",
      "         [ 0.1647,  3.8249]]], device='cuda:0', grad_fn=<UnsafeViewBackward0>)\n"
     ]
    }
   ],
   "source": [
    "from flexible_multivariate_normal import vector_to_tril\n",
    "\n",
    "tmp = vector_to_tril(rpm.precision_chol_vec_factors)\n",
    "gain = torch.matmul(tmp, tmp.transpose(-1, -2))\n",
    "\n",
    "\n",
    "print(gain)\n"
   ]
  },
  {
   "cell_type": "code",
   "execution_count": null,
   "metadata": {},
   "outputs": [],
   "source": []
  },
  {
   "cell_type": "code",
   "execution_count": null,
   "metadata": {},
   "outputs": [],
   "source": []
  }
 ],
 "metadata": {
  "kernelspec": {
   "display_name": "Python 3",
   "language": "python",
   "name": "python3"
  },
  "language_info": {
   "codemirror_mode": {
    "name": "ipython",
    "version": 3
   },
   "file_extension": ".py",
   "mimetype": "text/x-python",
   "name": "python",
   "nbconvert_exporter": "python",
   "pygments_lexer": "ipython3",
   "version": "3.7.4"
  }
 },
 "nbformat": 4,
 "nbformat_minor": 4
}
