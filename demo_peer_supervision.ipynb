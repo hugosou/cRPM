{
 "cells": [
  {
   "cell_type": "markdown",
   "metadata": {},
   "source": [
    "# Recognition Parametrized Model (RPM): Peer Supervision\n",
    "\n",
    "\n",
    "Observations $\\mathcal{X} = \\{ x_j \\}$ are groups of MNIST images representing $J$ different renderings of the same digit. The RPM to extract this information without explicit label information - a setting that might be termed \"peer-supervision\". The model writes:\n",
    "\n",
    "$$ \\mathsf{P_{\\theta}}(\\mathcal{X}, \\mathcal{Z}) = \\mathsf{p_{\\theta_z}}(\\mathcal{Z}) \\prod_{j} \\left( \\mathsf{p_{0,j}}(\\mathsf{x_{j}}) \\frac{\\mathsf{f_{\\theta j}}(\\mathsf{\\mathcal{Z}} | \\mathsf{x_{j}})}{\\mathsf{F_{\\theta j}}(\\mathcal{Z})} \\right) $$\n",
    "\n",
    "## Load and Rearanged MNIST"
   ]
  },
  {
   "cell_type": "code",
   "execution_count": 1,
   "metadata": {},
   "outputs": [
    {
     "name": "stderr",
     "output_type": "stream",
     "text": [
      "/nfs/ghome/live/hugos/anaconda3/lib/python3.7/site-packages/torchvision/datasets/mnist.py:75: UserWarning: train_data has been renamed data\n",
      "  warnings.warn(\"train_data has been renamed data\")\n",
      "/nfs/ghome/live/hugos/anaconda3/lib/python3.7/site-packages/torchvision/datasets/mnist.py:65: UserWarning: train_labels has been renamed targets\n",
      "  warnings.warn(\"train_labels has been renamed targets\")\n"
     ]
    }
   ],
   "source": [
    "import pickle\n",
    "import numpy as np\n",
    "from datetime import datetime\n",
    "import matplotlib.pyplot as plt\n",
    "\n",
    "import torch\n",
    "from torchvision import datasets\n",
    "from torchvision.transforms import ToTensor\n",
    "\n",
    "from utils_demo import rearrange_mnist\n",
    "from recognition_parametrised_model import RPM\n",
    "\n",
    "\n",
    "data_folder = './../MNIST'\n",
    "\n",
    "# Load MNIST\n",
    "train_data = datasets.MNIST(\n",
    "    root=data_folder,\n",
    "    train=True,\n",
    "    transform=ToTensor(),\n",
    "    download=True,\n",
    ")\n",
    "\n",
    "test_data = datasets.MNIST(\n",
    "    root=data_folder,\n",
    "    train=False,\n",
    "    transform=ToTensor()\n",
    ")\n",
    "\n",
    "# Random seeds\n",
    "torch.manual_seed(2)\n",
    "\n",
    "# Number of Conditionally independent Factors\n",
    "num_factors = 2\n",
    "\n",
    "# Sub-Sample original dataset\n",
    "train_length = 60000\n",
    "\n",
    "# Keep Only some digits\n",
    "sub_ids = torch.tensor([0, 1, 2, 3, 4, 5, 6, 7, 8, 9])\n",
    "sub_ids = torch.tensor([0, 1, 2, 3, 4])\n",
    "num_digits = len(sub_ids)\n",
    "\n",
    "# Rearrange MNIST by grouping num_factors Conditionally independent Observations together\n",
    "observations, train_images, train_labels = rearrange_mnist(\n",
    "    train_data.train_data, \n",
    "    train_data.train_labels, \n",
    "    num_factors, \n",
    "    train_length=train_length,\n",
    "    sub_ids=sub_ids\n",
    ")\n"
   ]
  },
  {
   "cell_type": "markdown",
   "metadata": {},
   "source": [
    "## Typical Observations"
   ]
  },
  {
   "cell_type": "code",
   "execution_count": 2,
   "metadata": {},
   "outputs": [
    {
     "data": {
      "image/png": "[encoded data removed]",
      "text/plain": [
       "<Figure size 864x288 with 12 Axes>"
      ]
     },
     "metadata": {},
     "output_type": "display_data"
    }
   ],
   "source": [
    "num_plot = np.arange(6)\n",
    "plt.figure(figsize=(len(num_plot)*2, num_factors*2))\n",
    "for obsi in range(len(num_plot)):\n",
    "    for facti in range(num_factors):\n",
    "        plt.subplot(num_factors, len(num_plot), (1+obsi) + facti * len(num_plot))\n",
    "        plt.imshow(observations[facti][num_plot[obsi], :, :], cmap='gray')\n",
    "        plt.xticks([])\n",
    "        plt.yticks([])\n",
    "        if facti == 0:\n",
    "            plt.title('Obs. n=' + str(obsi))\n",
    "        if obsi == 0:\n",
    "            plt.ylabel('Factor. j=' + str(facti))"
   ]
  },
  {
   "cell_type": "code",
   "execution_count": 3,
   "metadata": {},
   "outputs": [],
   "source": [
    "# GPUs ?\n",
    "device = torch.device('cuda' if torch.cuda.is_available() else 'cpu')\n",
    "\n",
    "# Data type: float64 / float32\n",
    "data_type = torch.float32\n",
    "torch.set_default_dtype(data_type)\n",
    "\n",
    "obs = [(obsi / obsi.max()).to(device).unsqueeze(1) for obsi in observations]"
   ]
  },
  {
   "cell_type": "code",
   "execution_count": 4,
   "metadata": {},
   "outputs": [],
   "source": [
    "obs_locations = torch.linspace(0, 1, obs[0].shape[1]).unsqueeze(-1).to(device)"
   ]
  },
  {
   "cell_type": "code",
   "execution_count": 5,
   "metadata": {},
   "outputs": [
    {
     "name": "stdout",
     "output_type": "stream",
     "text": [
      "RPM on GPU Observations on cuda:0\n"
     ]
    }
   ],
   "source": [
    "from recognition_parametrised_model import RPM\n",
    "import torch.nn.functional as F\n",
    "\n",
    "prior_params = {\n",
    "    'gp_kernel': 'RBF',\n",
    "    'scale': 1,\n",
    "    'lengthscale': 0.01,\n",
    "    'fit_kernel_scale': False,\n",
    "    'fit_kernel_scale_prior': False,\n",
    "    'fit_kernel_lengthscale': False,\n",
    "    'fit_kernel_lengthscale_prior': False,\n",
    "    'fit_prior_mean_param': False,\n",
    "    'optimizer': lambda params: torch.optim.Adam(params=params, lr=1e-3),\n",
    "}\n",
    "\n",
    "factors_params = {\n",
    "    'channels': [[1, 10, 20], [1, 10, 20]],\n",
    "    'kernel_conv': [[5, 5], [5, 5]],\n",
    "    'kernel_pool': [[2, 2], [2, 2]],\n",
    "    'dim_hidden': [[50], [50]],\n",
    "    'nonlinearity': [F.relu, F.relu],\n",
    "    'covariance': ['fixed_diag', 'fixed_diag'],\n",
    "    'optimizer': lambda params: torch.optim.Adam(params=params, lr=1e-3),\n",
    "}\n",
    "\n",
    "auxiliary_params = {\n",
    "    'channels': [[1, 10, 20], [1, 10, 20]],\n",
    "    'kernel_conv': [[5, 5], [5, 5]],\n",
    "    'kernel_pool': [[2, 2], [2, 2]],\n",
    "    'dim_hidden': [[50], [50]],\n",
    "    'nonlinearity': [F.relu, F.relu],\n",
    "    'covariance': ['fixed_diag', 'fixed_diag'],\n",
    "    'optimizer': lambda params: torch.optim.Adam(params=params, lr=1e-3),\n",
    "}\n",
    "\n",
    "variational_params = {\n",
    "    'inference_mode': 'amortized',  # 'amortized', 'parametrized'\n",
    "    'channels': [[1, 10, 20], [1, 10, 20]],\n",
    "    'kernel_conv': [[5, 5], [5, 5]],\n",
    "    'kernel_pool': [[2, 2], [2, 2]],\n",
    "    'dim_hidden': [[50], [50]],\n",
    "    'dim_hidden_merged': [50],\n",
    "    'nonlinearity': [F.relu, F.relu],\n",
    "    'nonlinearity_merged': F.relu,\n",
    "    'covariance': 'fixed_diag',\n",
    "    'optimizer': lambda params: torch.optim.Adam(params=params, lr=1e-3),\n",
    "}\n",
    "\n",
    "fit_params = {\n",
    "    'num_epoch': 100,\n",
    "    'batch_size': 2000,\n",
    "    'dim_latent': 2,\n",
    "    'prior_params': prior_params,\n",
    "    'factors_params': factors_params,\n",
    "    'auxiliary_params': auxiliary_params,\n",
    "    'variational_params': variational_params,\n",
    "    'ergodic': False,\n",
    "}\n",
    "\n",
    "rpm = RPM(\n",
    "    observations=obs,\n",
    "    observation_locations=obs_locations,\n",
    "    fit_params=fit_params,\n",
    ")\n",
    "\n"
   ]
  },
  {
   "cell_type": "code",
   "execution_count": null,
   "metadata": {},
   "outputs": [],
   "source": []
  },
  {
   "cell_type": "code",
   "execution_count": null,
   "metadata": {},
   "outputs": [
    {
     "name": "stdout",
     "output_type": "stream",
     "text": [
      "Epoch 1/100 Loss: 1.990003e+01\n",
      "Epoch 2/100 Loss: 1.953746e+01\n",
      "Epoch 3/100 Loss: 1.923879e+01\n",
      "Epoch 4/100 Loss: 1.896651e+01\n",
      "Epoch 5/100 Loss: 1.871677e+01\n",
      "Epoch 6/100 Loss: 1.848771e+01\n",
      "Epoch 7/100 Loss: 1.827739e+01\n",
      "Epoch 8/100 Loss: 1.808399e+01\n",
      "Epoch 9/100 Loss: 1.790570e+01\n",
      "Epoch 10/100 Loss: 1.774096e+01\n",
      "Epoch 11/100 Loss: 1.758838e+01\n",
      "Epoch 12/100 Loss: 1.744674e+01\n",
      "Epoch 13/100 Loss: 1.731498e+01\n",
      "Epoch 14/100 Loss: 1.719217e+01\n",
      "Epoch 15/100 Loss: 1.707748e+01\n",
      "Epoch 16/100 Loss: 1.697018e+01\n",
      "Epoch 17/100 Loss: 1.686963e+01\n",
      "Epoch 18/100 Loss: 1.677525e+01\n",
      "Epoch 19/100 Loss: 1.668655e+01\n",
      "Epoch 20/100 Loss: 1.660305e+01\n",
      "Epoch 21/100 Loss: 1.652435e+01\n",
      "Epoch 22/100 Loss: 1.645008e+01\n",
      "Epoch 23/100 Loss: 1.637990e+01\n",
      "Epoch 24/100 Loss: 1.631350e+01\n",
      "Epoch 25/100 Loss: 1.625061e+01\n",
      "Epoch 26/100 Loss: 1.619094e+01\n",
      "Epoch 27/100 Loss: 1.613422e+01\n",
      "Epoch 28/100 Loss: 1.608011e+01\n"
     ]
    }
   ],
   "source": [
    "rpm.fit(obs)"
   ]
  },
  {
   "cell_type": "code",
   "execution_count": null,
   "metadata": {},
   "outputs": [],
   "source": [
    "from utils_process import plot_loss\n",
    "plot_loss(rpm, offset=0)"
   ]
  },
  {
   "cell_type": "code",
   "execution_count": null,
   "metadata": {},
   "outputs": [],
   "source": [
    "with torch.no_grad():\n",
    "    rpm.num_observation_batch = obs[0].shape[0]\n",
    "    rpm._update_variational(obs)\n",
    "    rpm._update_marginals()\n",
    "    mean, vari = [\n",
    "        xx.detach().clone().cpu().numpy()\n",
    "        for xx in rpm.dist_marginals.mean_covariance()\n",
    "    ]"
   ]
  },
  {
   "cell_type": "code",
   "execution_count": null,
   "metadata": {},
   "outputs": [],
   "source": [
    "obs[0].shape\n",
    "obs[1].shape\n",
    "#train_labels.shape"
   ]
  },
  {
   "cell_type": "code",
   "execution_count": null,
   "metadata": {},
   "outputs": [],
   "source": [
    "labels2 = train_labels.reshape(observations[0].shape[0], num_factors)\n",
    "labels2.shape"
   ]
  },
  {
   "cell_type": "code",
   "execution_count": 157,
   "metadata": {},
   "outputs": [
    {
     "data": {
      "text/plain": [
       "<matplotlib.legend.Legend at 0x7f544c253110>"
      ]
     },
     "execution_count": 157,
     "metadata": {},
     "output_type": "execute_result"
    },
    {
     "data": {
      "image/png": "[encoded data removed]",
      "text/plain": [
       "<Figure size 504x504 with 1 Axes>"
      ]
     },
     "metadata": {
      "needs_background": "light"
     },
     "output_type": "display_data"
    }
   ],
   "source": [
    "subset = 1000\n",
    "xx = mean[:subset]\n",
    "yy = labels2[:subset, 0].numpy()\n",
    "\n",
    "plt.figure(figsize=(7, 7))\n",
    "for ii in np.unique(yy):\n",
    "    y0 = yy[np.where(yy == ii)]\n",
    "    x0 = xx[np.where(yy == ii)]\n",
    "    plt.scatter(x0[:, 0, 0], x0[:, 0, 1], s=20, label=str(ii))\n",
    "    \n",
    "plt.legend(title = 'Digit')"
   ]
  }
 ],
 "metadata": {
  "kernelspec": {
   "display_name": "Python 3",
   "language": "python",
   "name": "python3"
  },
  "language_info": {
   "codemirror_mode": {
    "name": "ipython",
    "version": 3
   },
   "file_extension": ".py",
   "mimetype": "text/x-python",
   "name": "python",
   "nbconvert_exporter": "python",
   "pygments_lexer": "ipython3",
   "version": "3.7.4"
  }
 },
 "nbformat": 4,
 "nbformat_minor": 4
}
