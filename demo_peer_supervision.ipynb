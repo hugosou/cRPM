{
 "cells": [
  {
   "cell_type": "markdown",
   "metadata": {},
   "source": [
    "# Recognition Parametrized Model (RPM): Peer Supervision\n",
    "\n",
    "\n",
    "Observations $\\mathcal{X} = \\{ x_j \\}$ are groups of MNIST images representing $J$ different renderings of the same digit. The RPM to extract this information without explicit label information - a setting that might be termed \"peer-supervision\". The model writes:\n",
    "\n",
    "$$ \\mathsf{P_{\\theta}}(\\mathcal{X}, \\mathcal{Z}) = \\mathsf{p_{\\theta_z}}(\\mathcal{Z}) \\prod_{j} \\left( \\mathsf{p_{0,j}}(\\mathsf{x_{j}}) \\frac{\\mathsf{f_{\\theta j}}(\\mathsf{\\mathcal{Z}} | \\mathsf{x_{j}})}{\\mathsf{F_{\\theta j}}(\\mathcal{Z})} \\right) $$\n",
    "\n",
    "## Load and Rearanged MNIST"
   ]
  },
  {
   "cell_type": "code",
   "execution_count": 1,
   "metadata": {},
   "outputs": [
    {
     "name": "stderr",
     "output_type": "stream",
     "text": [
      "/nfs/ghome/live/hugos/anaconda3/lib/python3.7/site-packages/torchvision/datasets/mnist.py:75: UserWarning: train_data has been renamed data\n",
      "  warnings.warn(\"train_data has been renamed data\")\n",
      "/nfs/ghome/live/hugos/anaconda3/lib/python3.7/site-packages/torchvision/datasets/mnist.py:65: UserWarning: train_labels has been renamed targets\n",
      "  warnings.warn(\"train_labels has been renamed targets\")\n"
     ]
    }
   ],
   "source": [
    "import pickle\n",
    "import numpy as np\n",
    "from datetime import datetime\n",
    "import matplotlib.pyplot as plt\n",
    "\n",
    "import torch\n",
    "from torchvision import datasets\n",
    "from torchvision.transforms import ToTensor\n",
    "\n",
    "from utils_demo import rearrange_mnist\n",
    "from recognition_parametrised_model import RPM\n",
    "\n",
    "\n",
    "data_folder = './../MNIST'\n",
    "\n",
    "# Load MNIST\n",
    "train_data = datasets.MNIST(\n",
    "    root=data_folder,\n",
    "    train=True,\n",
    "    transform=ToTensor(),\n",
    "    download=True,\n",
    ")\n",
    "\n",
    "test_data = datasets.MNIST(\n",
    "    root=data_folder,\n",
    "    train=False,\n",
    "    transform=ToTensor()\n",
    ")\n",
    "\n",
    "# Random seeds\n",
    "torch.manual_seed(2)\n",
    "\n",
    "# Number of Conditionally independent Factors\n",
    "num_factors = 2\n",
    "\n",
    "# Sub-Sample original dataset\n",
    "train_length = 60000\n",
    "\n",
    "# Keep Only some digits\n",
    "sub_ids = torch.tensor([0, 1, 2, 3, 4, 5, 6, 7, 8, 9])\n",
    "num_digits = len(sub_ids)\n",
    "\n",
    "# Rearrange MNIST by grouping num_factors Conditionally independent Observations together\n",
    "observations, train_images, train_labels = rearrange_mnist(\n",
    "    train_data.train_data, \n",
    "    train_data.train_labels, \n",
    "    num_factors, \n",
    "    train_length=train_length,\n",
    "    sub_ids=sub_ids\n",
    ")\n"
   ]
  },
  {
   "cell_type": "markdown",
   "metadata": {},
   "source": [
    "## Typical Observations"
   ]
  },
  {
   "cell_type": "code",
   "execution_count": 2,
   "metadata": {},
   "outputs": [
    {
     "data": {
      "image/png": "[encoded data removed]",
      "text/plain": [
       "<Figure size 864x288 with 12 Axes>"
      ]
     },
     "metadata": {},
     "output_type": "display_data"
    }
   ],
   "source": [
    "num_plot = np.arange(6)\n",
    "plt.figure(figsize=(len(num_plot)*2, num_factors*2))\n",
    "for obsi in range(len(num_plot)):\n",
    "    for facti in range(num_factors):\n",
    "        plt.subplot(num_factors, len(num_plot), (1+obsi) + facti * len(num_plot))\n",
    "        plt.imshow(observations[facti][num_plot[obsi], :, :], cmap='gray')\n",
    "        plt.xticks([])\n",
    "        plt.yticks([])\n",
    "        if facti == 0:\n",
    "            plt.title('Obs. n=' + str(obsi))\n",
    "        if obsi == 0:\n",
    "            plt.ylabel('Factor. j=' + str(facti))"
   ]
  },
  {
   "cell_type": "code",
   "execution_count": 3,
   "metadata": {},
   "outputs": [],
   "source": [
    "# GPUs ?\n",
    "device = torch.device('cuda' if torch.cuda.is_available() else 'cpu')\n",
    "\n",
    "# Data type: float64 / float32\n",
    "data_type = torch.float32\n",
    "torch.set_default_dtype(data_type)\n",
    "\n",
    "obs = [(obsi / obsi.max()).to(device).unsqueeze(1) for obsi in observations]"
   ]
  },
  {
   "cell_type": "code",
   "execution_count": 4,
   "metadata": {},
   "outputs": [],
   "source": [
    "obs_locations = torch.linspace(0, 1, obs[0].shape[1]).unsqueeze(-1).to(device)"
   ]
  },
  {
   "cell_type": "code",
   "execution_count": 5,
   "metadata": {},
   "outputs": [
    {
     "name": "stdout",
     "output_type": "stream",
     "text": [
      "RPM on GPU Observations on cuda:0\n"
     ]
    }
   ],
   "source": [
    "from recognition_parametrised_model import RPM\n",
    "import torch.nn.functional as F\n",
    "\n",
    "prior_params = {\n",
    "    'gp_kernel': 'RBF',\n",
    "    'scale': 1,\n",
    "    'lengthscale': 0.01,\n",
    "    'fit_kernel_scale': False,\n",
    "    'fit_kernel_scale_prior': False,\n",
    "    'fit_kernel_lengthscale': True,\n",
    "    'fit_kernel_lengthscale_prior': False,\n",
    "    'fit_prior_mean_param': False,\n",
    "    'optimizer': lambda params: torch.optim.Adam(params=params, lr=1e-3),\n",
    "}\n",
    "\n",
    "factors_params = {\n",
    "    'channels': [[1, 10, 10], [1, 10, 10]],\n",
    "    'kernel_conv': [[4, 4], [4, 4]],\n",
    "    'kernel_pool': [[2, 2], [2, 2]],\n",
    "    'dim_hidden': [[20, 20], [20, 20]],\n",
    "    'nonlinearity': [F.relu, F.relu],\n",
    "    'covariance': ['fixed', 'fixed'],\n",
    "    'optimizer': lambda params: torch.optim.Adam(params=params, lr=1e-3),\n",
    "}\n",
    "\n",
    "auxiliary_params = {\n",
    "    'channels': [[1, 10, 10], [1, 10, 10]],\n",
    "    'kernel_conv': [[4, 4], [4, 4]],\n",
    "    'kernel_pool': [[2, 2], [2, 2]],\n",
    "    'dim_hidden': [[20, 20], [20, 20]],\n",
    "    'nonlinearity': [F.relu, F.relu],\n",
    "    'covariance': ['fixed', 'fixed'],\n",
    "    'optimizer': lambda params: torch.optim.Adam(params=params, lr=1*1e-3),\n",
    "}\n",
    "\n",
    "variational_params = {\n",
    "    'inference_mode': 'amortized',  # 'amortized', 'parametrized'\n",
    "    'channels': [[1, 10, 10], [1, 10, 10]],\n",
    "    'kernel_conv': [[4, 4], [4, 4]],\n",
    "    'kernel_pool': [[2, 2], [2, 2]],\n",
    "    'dim_hidden': [[20], [20]],\n",
    "    'dim_hidden_merged': [20, 20],\n",
    "    'nonlinearity': [F.relu, F.relu],\n",
    "    'nonlinearity_merged': F.relu,\n",
    "    'covariance': 'full',\n",
    "    'optimizer': lambda params: torch.optim.Adam(params=params, lr=1e-3),\n",
    "}\n",
    "\n",
    "fit_params = {\n",
    "    'num_epoch': 1,\n",
    "    'batch_size': 1000,\n",
    "    'dim_latent': 2,\n",
    "    'prior_params': prior_params,\n",
    "    'factors_params': factors_params,\n",
    "    'auxiliary_params': auxiliary_params,\n",
    "    'variational_params': variational_params,\n",
    "    'ergodic': False,\n",
    "}\n",
    "\n",
    "rpm = RPM(\n",
    "    observations=obs,\n",
    "    observation_locations=obs_locations,\n",
    "    fit_params=fit_params,\n",
    ")\n",
    "\n",
    "#rpm.fit(obs)"
   ]
  },
  {
   "cell_type": "code",
   "execution_count": 8,
   "metadata": {},
   "outputs": [
    {
     "data": {
      "text/plain": [
       "[<function torch.nn.functional.relu(input: torch.Tensor, inplace: bool = False) -> torch.Tensor>,\n",
       " <function torch.nn.functional.relu(input: torch.Tensor, inplace: bool = False) -> torch.Tensor>]"
      ]
     },
     "execution_count": 8,
     "metadata": {},
     "output_type": "execute_result"
    }
   ],
   "source": [
    "rpm.recognition_variational.non_linearity_merged"
   ]
  },
  {
   "cell_type": "code",
   "execution_count": null,
   "metadata": {},
   "outputs": [],
   "source": []
  }
 ],
 "metadata": {
  "kernelspec": {
   "display_name": "Python 3",
   "language": "python",
   "name": "python3"
  },
  "language_info": {
   "codemirror_mode": {
    "name": "ipython",
    "version": 3
   },
   "file_extension": ".py",
   "mimetype": "text/x-python",
   "name": "python",
   "nbconvert_exporter": "python",
   "pygments_lexer": "ipython3",
   "version": "3.7.4"
  }
 },
 "nbformat": 4,
 "nbformat_minor": 4
}
