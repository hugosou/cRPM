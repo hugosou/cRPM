{
 "cells": [
  {
   "cell_type": "markdown",
   "source": [
    "\n",
    "# (Continuous) Recognition Parametrised Model (cRPM)\n",
    "\n",
    "See [Walker\\*, Soulat\\*, Yu, Sahani\\* (2023)](https://arxiv.org/abs/2209.05661) for details.\n",
    "\n",
    "## Model\n",
    "\n",
    "**Goal**: Explain structure in multimodal high dimensional observations $\\mathcal{X}$ (images, videos, time series, etc.) with a set of simpler unobserved variable $\\mathcal{Z}$. \n",
    "\n",
    "**Notations**: In the most general case:  \n",
    "\n",
    "$$ \\text{ }$$\n",
    "\n",
    "- Observation: $J$ time-series measured over $T$ timesteps:\n",
    "\n",
    "$$\\mathcal{X} = \\{ \\mathsf{x}_{jt} : j = 1\\dots J, t=1\\dots T \\}$$\n",
    "\n",
    "- Latent: $K$-dimensional variable\n",
    "\n",
    "$$\\mathcal{Z}=\\{\\mathsf{z}_t:t=1 \\dots T\\}$$\n",
    "\n",
    "**Hypothesis**: Given $\\mathcal{Z}$, observations are conditionally independent across modality and time. The full joint writes:\n",
    "\n",
    "$$ \\mathsf{P}_{\\theta}(\\mathcal{X}, \\mathcal{Z}) = \\mathsf{p}_{\\theta_z}(\\mathcal{Z}) \\prod_{j,t} \\left( \\mathsf{p}_{0,jt}(\\mathsf{x}_{jt}) \\frac{\\mathsf{f}_{\\theta j}(\\mathsf{z}_{t} | \\mathsf{x}_{jt})}{\\mathsf{F}_{\\theta j}(\\mathsf{z}_{t})} \\right) $$\n",
    "\n",
    "\n",
    "Where each recognition factor $\\mathsf{f}_{\\theta j}$ is parametrised by a neural network $\\theta_j$ that outputs the natural parameters of a multivariate normal distribution. The (empirical) marginals $\\mathsf{p}_{0,jt}$ are defined using a set of observations $\\{ \\mathcal{X}^{(n)} \\}_{n=1}^N$ such that: \n",
    "\n",
    "$$\\mathsf{p}_{0,jt}(\\mathsf{x}_{jt}) = \\frac1N \\sum_{n=1}^N \\delta(\\mathsf{x}_{jt} - \\mathsf{x}_{jt}^{(n)})$$\n",
    "\n",
    "where $\\delta$ is a diract. It comes that:\n",
    "\n",
    "$$\\mathsf{F}_{\\theta j}(\\mathsf{z}_{t}) = \\frac1N \\sum_{n=1}^N \\mathsf{f}_{\\theta j}(\\mathsf{z}_{t} | \\mathsf{x}_{jt}^{(n)})$$\n",
    "\n",
    "Finally, the prior $\\mathsf{p}_{\\theta z}(\\mathcal{Z})$ comprises independent Gaussian Process priors (over time, space, etc) for each latent dimension. Optimization uses a lower bound to the ELBO (Variational Free Energy) hence a variational distribution and a set of auxiliary factors.\n",
    "\n",
    "## Repository\n",
    "\n",
    "`recognition_parametrised_model.py` contains the main class to instantiate and fit continuous RPM models.\n",
    "\n",
    "`flexible_multivariate_normal.py` defines and handles Multivariate Normal Distributions using either natural parameters or mean and variance.\n",
    "\n",
    "## Demo\n",
    "\n",
    "We provide Jupyter notebooks to illustrate RP-GPFA:\n",
    "\n",
    "1) Time Series\n",
    "\n",
    "- Structured bouncing ball experiment: demonstrates the advantages of bypassing the specification of a generative model. `./demo_textured_bouncing_ball.ipynb`\n",
    "\n",
    "\n",
    "- Multi-Modal Time series: 3D moving ellipsoid. RP-GPFA combines video and range sensor signal to infer the 2D position of an \"agent\" of interest. (The moving Ellipsoid dataset and stored demo results can be downloaded [here](https://www.dropbox.com/sh/70yc801n3p64ke1/AAC3irVxD9p119N22J1qvqYYa?dl=0)) `./demo_textured_bouncing_ball.ipynb`\n",
    "\n",
    "2) Static Images\n",
    "\n",
    "- MNIST Data: Non-linear embedding of images `./demo_peer_supervision.ipynb`\n",
    "\n"
   ],
   "metadata": {
    "collapsed": false
   },
   "id": "8fff90083d644b57"
  },
  {
   "cell_type": "code",
   "outputs": [],
   "source": [],
   "metadata": {
    "collapsed": false
   },
   "id": "c9027a39a6cf4dce"
  }
 ],
 "metadata": {
  "kernelspec": {
   "display_name": "Python 3",
   "language": "python",
   "name": "python3"
  },
  "language_info": {
   "codemirror_mode": {
    "name": "ipython",
    "version": 2
   },
   "file_extension": ".py",
   "mimetype": "text/x-python",
   "name": "python",
   "nbconvert_exporter": "python",
   "pygments_lexer": "ipython2",
   "version": "2.7.6"
  }
 },
 "nbformat": 4,
 "nbformat_minor": 5
}
